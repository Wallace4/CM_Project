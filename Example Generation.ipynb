{
 "cells": [
  {
   "cell_type": "code",
   "execution_count": null,
   "id": "b23244e8-5daf-4b0b-8940-7fb459523d08",
   "metadata": {},
   "outputs": [],
   "source": [
    "import numpy as np\n",
    "import networkx as nx\n",
    "import matplotlib.pyplot as plt"
   ]
  },
  {
   "cell_type": "code",
   "execution_count": null,
   "id": "84959d63-0225-464c-b053-f82f0b5cb9ef",
   "metadata": {},
   "outputs": [],
   "source": [
    "import pickle"
   ]
  },
  {
   "cell_type": "markdown",
   "id": "0b1ec4d1-fa9e-4839-8a44-6f27eed0bb5b",
   "metadata": {
    "tags": []
   },
   "source": [
    "# Min Flow Problems"
   ]
  },
  {
   "cell_type": "markdown",
   "id": "dd388f72-cf57-41d2-a939-8958b0b1473c",
   "metadata": {},
   "source": [
    "### Utility Functions"
   ]
  },
  {
   "cell_type": "code",
   "execution_count": null,
   "id": "f2bfc024-f299-4af1-991a-98c2493a74f4",
   "metadata": {},
   "outputs": [],
   "source": [
    "def get_min_flow_problem(graph, dense=False):\n",
    "    \"\"\"\n",
    "    Returns a min flow problem in the form of:\n",
    "    \\min \\{ \\frac{1}{2}x^TQx + q^Tx : Ex=b, 0 \\leq x \\leq u \\}\n",
    "    \n",
    "    Returns\n",
    "        E      = Incidence Matrix (sparse by default) (dim=m x m),\n",
    "        Q_diag = Diagonal of the Cost Matrix Q (dim=m)\n",
    "        q      = Cost Array (dim=m)\n",
    "        b      = Constraint Array (dim=n)\n",
    "        upper  = Capacity Array (dim=m)\n",
    "    \"\"\"\n",
    "    E = nx.linalg.incidence_matrix(graph, oriented=True)\n",
    "    if dense: E = E.dense()\n",
    "\n",
    "    m, n = graph.number_of_edges(), graph.number_of_nodes()\n",
    "    \n",
    "    Q_diag = np.zeros(m)\n",
    "    q = np.zeros(m)\n",
    "    upper = np.zeros(m)\n",
    "    sol = np.zeros(m)\n",
    "    for i, (u,v,d) in enumerate(graph.edges(data=True)):\n",
    "        if \"capacity\" in d:\n",
    "            upper[i] = d[\"capacity\"]\n",
    "        if \"lcost\" in d:\n",
    "            q[i] = d[\"lcost\"]\n",
    "        if \"qcost\" in d:\n",
    "            Q_diag[i] = d[\"qcost\"]\n",
    "        if \"solution\" in d:\n",
    "            sol[i] = d[\"solution\"]\n",
    "    \n",
    "    b = np.zeros(n)\n",
    "    for i, (u,d) in enumerate(graph.nodes(data=True)):\n",
    "        if \"quantity\" in d:\n",
    "            b[i] = d[\"quantity\"]\n",
    "    \n",
    "    if np.allclose(sol, 0):\n",
    "        sol = None\n",
    "    \n",
    "    return E, Q_diag, q, b, upper, sol"
   ]
  },
  {
   "cell_type": "code",
   "execution_count": null,
   "id": "b349646d-6765-4dc6-bd9e-c1051cb32d1c",
   "metadata": {},
   "outputs": [],
   "source": [
    "def plot_min_flow_problem(G, show_cost=False, show_sol=False, figsize=(12,8), scale=1.0, seed=None, qoff=(-0.07, 0.07)):\n",
    "    \"\"\"\n",
    "    Plots a min flow problem given its graph.\n",
    "    \n",
    "    ver.0.1: colors and node quantity positions are tentative\n",
    "    ver.0.2: added option to show solution path, flow visualization is still missing\n",
    "    \"\"\"\n",
    "    def shift(pos, x_shift, y_shift):\n",
    "        return {n:(x + x_shift, y + y_shift) for n,(x,y) in pos.items()}\n",
    "    \n",
    "    pos = nx.spring_layout(G, seed=seed)\n",
    "    quantity_labels = nx.get_node_attributes(G,'quantity')\n",
    "    capacity_labels = nx.get_edge_attributes(G,'capacity')\n",
    "    if show_cost: lcost_labels = nx.get_edge_attributes(G,'lcost')\n",
    "    if show_cost: qcost_labels = nx.get_edge_attributes(G,'qcost')\n",
    "    fig, ax = plt.subplots(figsize=(12,8))\n",
    "\n",
    "    nx.draw_networkx_nodes(G, pos, ax=ax, node_size=int(scale*1200), node_color=\"white\", edgecolors=\"black\", linewidths=scale)\n",
    "    nx.draw_networkx_labels(G, pos, ax=ax, font_size=int(scale*24)) #,font_size=14, font_color=\"black\", font_family=\"sans-serif\")\n",
    "    nx.draw_networkx_labels(G, shift(pos, qoff[0]*scale, qoff[1]*scale), ax=ax, font_size=int(scale*16), labels=quantity_labels, font_color=\"blue\")\n",
    "    nx.draw_networkx_edges(G, pos, ax=ax, arrowsize=int(scale*20), arrowstyle=\"-|>\", node_size=int(scale*1200), width=int(scale*4))\n",
    "    nx.draw_networkx_edge_labels(G, pos, ax=ax, edge_labels=capacity_labels, font_size=int(scale*20))\n",
    "    if show_cost: nx.draw_networkx_edge_labels(G, pos, ax=ax, edge_labels=lcost_labels, font_size=int(scale*12), font_color=\"orange\", label_pos=0.66)\n",
    "    if show_cost: nx.draw_networkx_edge_labels(G, pos, ax=ax, edge_labels=qcost_labels, font_size=int(scale*12), font_color=\"red\", label_pos=0.33)\n",
    "    if show_sol:\n",
    "        sol_edges = nx.get_edge_attributes(G, \"solution\").keys()\n",
    "        nx.draw_networkx_edges(G, pos, ax=ax, edgelist=sol_edges, edge_color=\"gold\",\n",
    "            arrowsize=int(scale*20), arrowstyle=\"-|>\", node_size=int(scale*1200), width=int(scale*4))\n",
    "    plt.show()"
   ]
  },
  {
   "cell_type": "markdown",
   "id": "c11b78b2-3235-4ef6-a617-76bb5bde2bfa",
   "metadata": {
    "tags": []
   },
   "source": [
    "### Example 1: Simple Solvable Problem"
   ]
  },
  {
   "cell_type": "code",
   "execution_count": null,
   "id": "5dd053a2-2071-4833-8252-5630bfabe220",
   "metadata": {},
   "outputs": [],
   "source": [
    "G1 = nx.DiGraph()\n",
    "G1.add_nodes_from(range(0,5))\n",
    "nx.set_node_attributes(G1, {i:v for i,v in enumerate([2,2,1,1,-6])}, \"quantity\")\n",
    "\n",
    "G1.add_edge(0, 1, capacity=5, lcost=1, qcost=1)\n",
    "G1.add_edge(1, 2, capacity=2, lcost=1, qcost=1)\n",
    "G1.add_edge(2, 3, capacity=1, lcost=1, qcost=2)\n",
    "G1.add_edge(4, 0, capacity=6, lcost=1, qcost=1)\n",
    "G1.add_edge(4, 1, capacity=3, lcost=1, qcost=1)"
   ]
  },
  {
   "cell_type": "code",
   "execution_count": null,
   "id": "71569aff-b738-43fb-b221-d94903522a6c",
   "metadata": {},
   "outputs": [],
   "source": [
    "sol1 = {\n",
    "    (4, 1): 3,\n",
    "    (4, 0): 3,\n",
    "    (0, 1): 1,\n",
    "    (1, 2): 2,\n",
    "    (2, 1): 2,\n",
    "    (2, 3): 1,\n",
    "}\n",
    "nx.set_edge_attributes(G1, sol1, \"solution\")"
   ]
  },
  {
   "cell_type": "code",
   "execution_count": null,
   "id": "bfd74b38-e54d-4fcf-813f-0a9f293968f1",
   "metadata": {},
   "outputs": [],
   "source": [
    "with open('Data/problem1.pickle', 'wb') as handle:\n",
    "    pickle.dump(get_min_flow_problem(G1), handle, protocol=pickle.HIGHEST_PROTOCOL)\n",
    "# loading example\n",
    "#with open('Data/problem1.pickle', 'rb') as handle:\n",
    "#    (E, Q_diag, q, b, upper, sol) = pickle.load(handle)"
   ]
  },
  {
   "cell_type": "code",
   "execution_count": null,
   "id": "4092bbdf-f5ec-4387-ae84-125aed8fc8bc",
   "metadata": {},
   "outputs": [],
   "source": [
    "(E, Q_diag, q, b, upper, sol)"
   ]
  },
  {
   "cell_type": "code",
   "execution_count": null,
   "id": "7767418e-2883-47fb-88be-35c228c708e4",
   "metadata": {},
   "outputs": [],
   "source": [
    "# plot with no costs shown\n",
    "# blue values are items to be moved\n",
    "plot_min_flow_problem(G1, scale=1.0, seed=123)"
   ]
  },
  {
   "cell_type": "code",
   "execution_count": null,
   "id": "6b99a022-524b-4964-9ff7-2598833ea008",
   "metadata": {},
   "outputs": [],
   "source": [
    "# plot with costs added\n",
    "# orange (q) are linear scaling edge traversal costs\n",
    "# red (Q) are quadratically scaling edge traversal costs\n",
    "plot_min_flow_problem(G1, show_cost=True, scale=1.3, seed=123)"
   ]
  },
  {
   "cell_type": "markdown",
   "id": "8b7aef76-ee82-4560-aa3c-3780ab411082",
   "metadata": {
    "tags": []
   },
   "source": [
    "### Example 2: Different Cost Paths"
   ]
  },
  {
   "cell_type": "code",
   "execution_count": null,
   "id": "def46167-80d9-4e4e-9fd0-a9bec567bb6c",
   "metadata": {},
   "outputs": [],
   "source": [
    "G2 = nx.DiGraph()\n",
    "G2.add_nodes_from(range(0,7))\n",
    "nx.set_node_attributes(G2, {i:v for i,v in enumerate([-6,0,0,0,0,0,6])}, \"quantity\")\n",
    "\n",
    "G2.add_edge(0, 1, capacity=np.inf, lcost=2, qcost=1)\n",
    "G2.add_edge(0, 2, capacity=np.inf, lcost=1, qcost=1)\n",
    "G2.add_edge(1, 3, capacity=np.inf, lcost=2, qcost=1)\n",
    "G2.add_edge(2, 3, capacity=np.inf, lcost=1, qcost=1)\n",
    "G2.add_edge(3, 4, capacity=np.inf, lcost=1, qcost=2)\n",
    "G2.add_edge(3, 5, capacity=np.inf, lcost=2, qcost=1)\n",
    "G2.add_edge(4, 6, capacity=np.inf, lcost=1, qcost=2)\n",
    "G2.add_edge(5, 6, capacity=np.inf, lcost=2, qcost=1)"
   ]
  },
  {
   "cell_type": "code",
   "execution_count": null,
   "id": "18a53efd-b2da-4054-943f-4ad1d8f1ea56",
   "metadata": {},
   "outputs": [],
   "source": [
    "sol2 = {\n",
    "    (0, 2): 6,\n",
    "    (2, 3): 6,\n",
    "    (3, 4): 6,\n",
    "    (4, 6): 6,\n",
    "}\n",
    "nx.set_edge_attributes(G2, sol2, \"solution\")"
   ]
  },
  {
   "cell_type": "code",
   "execution_count": null,
   "id": "3faab837-2328-42fb-8f50-b7b0fee8fb42",
   "metadata": {},
   "outputs": [],
   "source": [
    "with open('Data/problem2.pickle', 'wb') as handle:\n",
    "    pickle.dump(get_min_flow_problem(G2), handle, protocol=pickle.HIGHEST_PROTOCOL)"
   ]
  },
  {
   "cell_type": "code",
   "execution_count": null,
   "id": "db462315-cc5c-4550-a301-6f65896d7228",
   "metadata": {},
   "outputs": [],
   "source": [
    "plot_min_flow_problem(G2, show_cost=True, show_sol=True, scale=1.3, seed=123, qoff=(0, 0.1))"
   ]
  },
  {
   "cell_type": "markdown",
   "id": "985d75ba-cacc-4134-be7b-ddec0e1ab875",
   "metadata": {},
   "source": [
    "### Example 4: [Unsolvable] Insufficient Capacity"
   ]
  },
  {
   "cell_type": "code",
   "execution_count": null,
   "id": "6ec702e2-64d2-4486-9524-6a6d6ef1af27",
   "metadata": {},
   "outputs": [],
   "source": [
    "G4 = nx.DiGraph()\n",
    "G4.add_nodes_from(range(0,5))\n",
    "nx.set_node_attributes(G4, {i:v for i,v in enumerate([2,2,1,1,-6])}, \"quantity\")\n",
    "\n",
    "G4.add_edge(0, 1, capacity=5, lcost=1, qcost=1)\n",
    "G4.add_edge(1, 2, capacity=2, lcost=1, qcost=1)\n",
    "G4.add_edge(2, 3, capacity=1, lcost=1, qcost=2)\n",
    "G4.add_edge(4, 1, capacity=3, lcost=1, qcost=1)\n",
    "G4.add_edge(4, 0, capacity=2, lcost=1, qcost=1)"
   ]
  },
  {
   "cell_type": "code",
   "execution_count": null,
   "id": "fc47b6cd-0c96-4a56-b7ce-af1e3b7caa6f",
   "metadata": {},
   "outputs": [],
   "source": [
    "sol4 = None"
   ]
  },
  {
   "cell_type": "code",
   "execution_count": null,
   "id": "fee68f6f-8c67-4d2b-aff6-5cb5c4e38ca4",
   "metadata": {},
   "outputs": [],
   "source": [
    "with open('Data/problem4.pickle', 'wb') as handle:\n",
    "    pickle.dump(get_min_flow_problem(G4), handle, protocol=pickle.HIGHEST_PROTOCOL)"
   ]
  },
  {
   "cell_type": "code",
   "execution_count": null,
   "id": "0aace721-43de-4e11-8835-0b7a91936565",
   "metadata": {},
   "outputs": [],
   "source": [
    "np.allclose(sol,0)"
   ]
  },
  {
   "cell_type": "code",
   "execution_count": null,
   "id": "871b4b6f-10eb-40e6-a5d2-983206443251",
   "metadata": {},
   "outputs": [],
   "source": [
    "plot_min_flow_problem(G4, show_cost=True, scale=1.3, seed=123, qoff=(0.04,-0.07))"
   ]
  },
  {
   "cell_type": "markdown",
   "id": "6633962a-4757-445b-9301-a030da976750",
   "metadata": {
    "tags": []
   },
   "source": [
    "### Example 5: [Unsolvable] No Path Available"
   ]
  },
  {
   "cell_type": "code",
   "execution_count": null,
   "id": "e6aa91c2-5446-4da7-9905-5f4087276efc",
   "metadata": {},
   "outputs": [],
   "source": [
    "G5 = nx.DiGraph()\n",
    "G5.add_nodes_from(range(0,5))\n",
    "nx.set_node_attributes(G5, {i:v for i,v in enumerate([2,2,1,1,-6])}, \"quantity\")\n",
    "\n",
    "G5.add_edge(0, 1, capacity=5, lcost=1, qcost=1)\n",
    "G5.add_edge(1, 2, capacity=2, lcost=1, qcost=1)\n",
    "G5.add_edge(3, 2, capacity=1, lcost=1, qcost=1)\n",
    "G5.add_edge(4, 1, capacity=3, lcost=1, qcost=1)\n",
    "G5.add_edge(4, 0, capacity=6, lcost=1, qcost=1)"
   ]
  },
  {
   "cell_type": "code",
   "execution_count": null,
   "id": "6a12ad5b-9d8b-4ed0-a200-832ab8fa847c",
   "metadata": {},
   "outputs": [],
   "source": [
    "sol5 = None"
   ]
  },
  {
   "cell_type": "code",
   "execution_count": null,
   "id": "aa59d6dc-27d8-4369-995b-acc4960b244a",
   "metadata": {},
   "outputs": [],
   "source": [
    "with open('Data/problem5.pickle', 'wb') as handle:\n",
    "    pickle.dump(get_min_flow_problem(G5), handle, protocol=pickle.HIGHEST_PROTOCOL)"
   ]
  },
  {
   "cell_type": "code",
   "execution_count": null,
   "id": "ef3312df-59aa-45db-928b-d21fdfe9a1ba",
   "metadata": {},
   "outputs": [],
   "source": [
    "plot_min_flow_problem(G5, show_cost=True, scale=1.3, seed=123)"
   ]
  },
  {
   "cell_type": "markdown",
   "id": "ede9ab80-54a9-42ea-878e-c69688b19b71",
   "metadata": {},
   "source": [
    "### Example 6: Medium Sized Graph"
   ]
  },
  {
   "cell_type": "code",
   "execution_count": null,
   "id": "33630b17-ac7d-49f3-9c04-d7a55b6b56fe",
   "metadata": {},
   "outputs": [],
   "source": [
    "# start with a random graph (weakly connected)\n",
    "G6 = nx.gnm_random_graph(20, 100, seed=123, directed=True)\n",
    "assert nx.is_weakly_connected(G6)\n",
    "# set default values\n",
    "nx.set_node_attributes(G6, 0, \"quantity\")\n",
    "nx.set_edge_attributes(G6, 4, \"capacity\")\n",
    "nx.set_edge_attributes(G6, 1e5, \"lcost\")\n",
    "nx.set_edge_attributes(G6, 1, \"qcost\")\n",
    "# add solvable paths\n",
    "nx.set_node_attributes(G6, {0:-5, 10:5}, \"quantity\")\n",
    "G6_path1 = [0, 11, 18, 14, 16, 10]\n",
    "nx.add_path(G6, G6_path1, capacity=5, lcost=3, qcost=4)\n",
    "nx.set_node_attributes(G6, {2:-5, 3:5}, \"quantity\")\n",
    "G6_path2 = [2, 4, 8, 13, 12, 9, 15, 3]\n",
    "nx.add_path(G6, G6_path2, capacity=6, lcost=2, qcost=3)"
   ]
  },
  {
   "cell_type": "code",
   "execution_count": null,
   "id": "d57e490c-45b0-4e88-a583-e80639e9386e",
   "metadata": {},
   "outputs": [],
   "source": [
    "def get_edges_from_path(path):\n",
    "    prev = path[0]\n",
    "    edges = []\n",
    "    for curr in path[1:]:\n",
    "        edges.append((prev, curr))\n",
    "        prev = curr\n",
    "    return edges"
   ]
  },
  {
   "cell_type": "code",
   "execution_count": null,
   "id": "42e62edc-12cb-406c-9526-3d2dac8e9672",
   "metadata": {},
   "outputs": [],
   "source": [
    "sol6 = {**dict([((u,v), 5) for (u,v) in get_edges_from_path(G6_path1)]),\n",
    "        **dict([((u,v), 5) for (u,v) in get_edges_from_path(G6_path2)])}\n",
    "nx.set_edge_attributes(G6, sol6, \"solution\")"
   ]
  },
  {
   "cell_type": "code",
   "execution_count": null,
   "id": "7bcf4e07-2344-44c5-afcc-e29e29635653",
   "metadata": {},
   "outputs": [],
   "source": [
    "with open('Data/problem6.pickle', 'wb') as handle:\n",
    "    pickle.dump(get_min_flow_problem(G6), handle, protocol=pickle.HIGHEST_PROTOCOL)"
   ]
  },
  {
   "cell_type": "code",
   "execution_count": null,
   "id": "7c800162-36cf-4bc2-a6aa-e114fbc7501b",
   "metadata": {},
   "outputs": [],
   "source": [
    "plot_min_flow_problem(G6, show_sol=True, scale=0.5)"
   ]
  }
 ],
 "metadata": {
  "kernelspec": {
   "display_name": "Python 3 (ipykernel)",
   "language": "python",
   "name": "python3"
  },
  "language_info": {
   "codemirror_mode": {
    "name": "ipython",
    "version": 3
   },
   "file_extension": ".py",
   "mimetype": "text/x-python",
   "name": "python",
   "nbconvert_exporter": "python",
   "pygments_lexer": "ipython3",
   "version": "3.9.7"
  }
 },
 "nbformat": 4,
 "nbformat_minor": 5
}
