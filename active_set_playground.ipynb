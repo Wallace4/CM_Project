{
 "cells": [
  {
   "cell_type": "code",
   "execution_count": 1,
   "metadata": {},
   "outputs": [],
   "source": [
    "import numpy as np"
   ]
  },
  {
   "cell_type": "code",
   "execution_count": 2,
   "metadata": {},
   "outputs": [],
   "source": [
    "class QuadraticProblem:\n",
    "    # (pseudo) private method\n",
    "    @staticmethod\n",
    "    def __check_shape(x, dim=None, varname=\"\"):\n",
    "        if isinstance(x, np.ndarray):\n",
    "            if dim == None or x.shape == dim:\n",
    "                return x\n",
    "            else: raise TypeError(f\"{varname} has shape {x.shape} expected {dim}\")\n",
    "        else: raise TypeError(f\"{varname} is not {type({np.ndarray})}\")\n",
    "        \n",
    "    def __init__(self, A, b, c, H, M, q=None, r=None, tol=1e-8):\n",
    "        self.tol = tol\n",
    "            \n",
    "        # shape of A is assumed to be correct\n",
    "        self.A = self.__check_shape(A, varname=\"A\")\n",
    "        m, n = A.shape\n",
    "        \n",
    "        self.b = self.__check_shape(b, dim=(m,), varname=\"b\")\n",
    "        self.c = self.__check_shape(c, dim=(n,), varname=\"c\")\n",
    "        self.H = self.__check_shape(H, dim=(n,n), varname=\"H\")\n",
    "        self.M = self.__check_shape(M, dim=(m,m), varname=\"M\")\n",
    "        \n",
    "        self.q = self.__check_shape(q, dim=(n,), varname=\"q\") if q is not None else np.zeros(n)\n",
    "        self.r = self.__check_shape(r, dim=(n,), varname=\"r\") if r is not None else np.zeros(n)\n",
    "        \n",
    "        # init solutions\n",
    "        self.x = np.zeros(n)\n",
    "        self.y = np.zeros(m)\n",
    "        self.z = np.zeros(n)\n",
    "        \n",
    "        # init deltas\n",
    "        self.dx = np.zeros(n)\n",
    "        self.dy = np.zeros(m)\n",
    "        self.dz = np.zeros(n)\n",
    "        \n",
    "        # init B, N (temporary)\n",
    "        self.B = np.full(n, True)\n",
    "        self.N = np.full(n, False)\n",
    "        \n",
    "    def set_initial_solution(self, x, y, z):\n",
    "        self.x[:] = self.__check_shape(x, dim=(n,), varname=\"x\")\n",
    "        self.y[:] = self.__check_shape(y, dim=(m,), varname=\"y\")\n",
    "        self.z[:] = self.__check_shape(z, dim=(n,), varname=\"z\")\n",
    "        \n",
    "    def set_inital_active_set(self, B, N):\n",
    "        assert (np.sum((B ^ N)) == self.c.shape[0]), \"Sets are not valid. |Union| should be n and |Intersection| should be 0\"\n",
    "        self.B[:] = self.__check_shape(B, dim=(n,), varname=\"B\")\n",
    "        self.N[:] = self.__check_shape(N, dim=(n,), varname=\"N\")\n",
    "    \n",
    "    def get_error(self):\n",
    "        constraint_AMb_error = np.linalg.norm(self.A.dot(self.x) + self.M.dot(self.y) - self.b)\n",
    "        negative_mask = self.x < 0\n",
    "        constraint_x_error = np.linalg.norm(self.x[negative_mask]) if sum(negative_mask) > 0 else 0\n",
    "        return constraint_AMb_error, constraint_x_error\n",
    "    \n",
    "    def get_solution(self):\n",
    "        constraint_AMb = self.A.dot(self.x) + self.M.dot(self.y) - self.b\n",
    "        assert np.allclose(constraint_AMb, 0, rtol=self.tol), constraint_AMb\n",
    "        constraint_x = (self.x >= 0)\n",
    "        assert np.allclose(constraint_x, True, rtol=self.tol), constraint_x\n",
    "        return self.c.dot(self.x)+0.5*(self.x.dot(self.H).dot(self.x))+0.5*(self.y.dot(self.M).dot(self.y))\n",
    "    \n",
    "    def test_primal_feasible(self):\n",
    "        condition_1 = self.A.dot(self.x) + self.M.dot(self.y) - self.b\n",
    "        assert np.allclose(condition_1, 0, rtol=self.tol), condition_1\n",
    "        condition_2 = (self.H[self.B,:][:,self.B].dot(self.x[self.B]) +\n",
    "            self.H[self.B,:][:,self.N].dot(self.x[self.N]) + self.c[self.B] - \n",
    "            self.A[:,self.B].transpose().dot(self.y) - self.z[self.B])\n",
    "        assert np.allclose(condition_2, 0, rtol=self.tol), condition_2\n",
    "        condition_3 = (self.H[self.B,:][:,self.N].transpose().dot(self.x[self.B]) + \n",
    "            self.H[self.N,:][:,self.N].dot(self.x[self.N]) + self.c[self.N] - \n",
    "            self.A[:,self.N].transpose().dot(self.y) - self.z[self.N])\n",
    "        assert np.allclose(condition_3, 0, rtol=self.tol), condition_3\n",
    "        condition_4 = self.z[self.B] + self.r[self.B]\n",
    "        assert np.allclose(condition_4, 0, rtol=self.tol), condition_4\n",
    "        condition_5 = self.x[self.N] + self.q[self.N]\n",
    "        assert np.allclose(condition_5, 0, rtol=self.tol), condition_5\n",
    "        condition_6 = (self.x[self.B] + self.q[self.B] >= 0)\n",
    "        assert np.allclose(condition_6, True, rtol=self.tol), condition_6\n",
    "        return True\n",
    "    \n",
    "    def test_dual_feasible(self):\n",
    "        condition_1 = self.H.dot(self.x) + self.c - A.transpose().dot(self.y) - self.z\n",
    "        assert np.allclose(condition_1, 0, rtol=self.tol), condition_1\n",
    "        condition_2 = self.A.dot(self.x) + self.M.dot(self.y) - self.b\n",
    "        assert np.allclose(condition_2, 0, rtol=self.tol), condition_2\n",
    "        condition_3 = self.x[self.N] + self.q[self.N]\n",
    "        assert np.allclose(condition_3, 0, rtol=self.tol), condition_3\n",
    "        condition_4 = self.z[self.B] + self.r[self.B]\n",
    "        assert np.allclose(condition_4, 0, rtol=self.tol), condition_4\n",
    "        condition_5 = (self.z[self.N] + self.r[self.N] >= 0)\n",
    "        assert np.allclose(condition_5, True, rtol=self.tol), condition_5\n",
    "        return True"
   ]
  },
  {
   "cell_type": "markdown",
   "metadata": {},
   "source": [
    "## Primal Active Set"
   ]
  },
  {
   "cell_type": "code",
   "execution_count": 3,
   "metadata": {},
   "outputs": [],
   "source": [
    "def primal_active_set_base(self, l, debug=False):\n",
    "    if debug: \n",
    "        print(\"===STARTING BASE ITERATION===\")\n",
    "        print(f\"index l: {repr(l)}\")\n",
    "        print(f\"set B: {repr(self.B)}\")\n",
    "        print(f\"set N: {repr(self.N)}\")\n",
    "    # compute dx, dy, dz\n",
    "    # block and B_size are temporary mockups\n",
    "    # all [rows,:][:,columns].transpose() should be inverted instead\n",
    "    self.dx[l] = 1\n",
    "    K_B = np.block([\n",
    "        [self.H[self.B,:][:,self.B], self.A[:,self.B].transpose()],\n",
    "        [       self.A[:,self.B]   ,         - self.M            ]\n",
    "    ])\n",
    "    B_size = np.sum((self.B))\n",
    "    to_solve_A = K_B\n",
    "    # using H[self.N,l] here doesn't work...\n",
    "    to_solve_b = - np.concatenate([self.H[self.B,:][:,l], self.A[:,l]])\n",
    "    sol = np.linalg.solve(to_solve_A, to_solve_b).reshape((B_size+self.y.size,)) # numpy jank indexing\n",
    "    self.dx[self.B], self.dy[:] = sol[:B_size], -sol[B_size:]\n",
    "    # using H[self.N,:][:,l] here doesn't work...\n",
    "    # indexing this way might have issues when B or N have 1 element\n",
    "    self.dz[self.N] = (\n",
    "        self.H[self.N,l]*self.dx[l] \n",
    "        + self.H[self.B,:][:,self.N].transpose().dot(self.dx[self.B])\n",
    "        - self.A[:,self.N].transpose().dot(self.dy)\n",
    "    )\n",
    "    self.dz[l] = (\n",
    "        self.H[l,l]*self.dx[l]\n",
    "        + self.H[self.B,:][:,l].transpose().dot(self.dx[self.B])\n",
    "        - self.A[:,l].transpose().dot(self.dy)\n",
    "    )\n",
    "    if debug: \n",
    "        print(f\"dx: {repr(self.dx)}\")\n",
    "        print(f\"dy: {repr(self.dy)}\")\n",
    "        print(f\"dz: {repr(self.dz)}\")\n",
    "    \n",
    "    # compute alpha_star\n",
    "    if np.allclose(self.dz[l], 0, rtol=self.tol):    # dz[l] == 0\n",
    "        alpha_star = np.inf\n",
    "    else:\n",
    "        alpha_star = -(self.z[l] + self.r[l]) / self.dz[l]\n",
    "    if debug: print(f\"alpha*: \\t{str(alpha_star)}\")\n",
    "    \n",
    "    # compute alpha_max\n",
    "    neg_dx_mask = (self.dx < 0)\n",
    "    to_min = self.x + self.q\n",
    "    to_min[~neg_dx_mask] = np.inf\n",
    "    to_min[neg_dx_mask] /= (-self.dx[neg_dx_mask])\n",
    "    k = np.argmin(to_min)\n",
    "    alpha_max = to_min[k]\n",
    "    if debug: print(f\"alpha_max: \\t{str(alpha_max)}\")\n",
    "    if debug: print(f\"k: {str(k)}\")\n",
    "    \n",
    "    alpha = min(alpha_star, alpha_max)\n",
    "    if debug: print(f\"alpha: \\t\\t{str(alpha)}\")\n",
    "    \n",
    "    if np.isinf(alpha):\n",
    "        # terminate primal is unbounded (dual is unfeasible)\n",
    "        raise Exception(\"Primal is Unbounded (Dual is Unfeasible)\")\n",
    "    \n",
    "    # compute update\n",
    "    self.x[l] += alpha*self.dx[l]\n",
    "    self.x[self.B] += alpha*self.dx[self.B]\n",
    "    self.y[:] += alpha*self.dy\n",
    "    self.z[l] += alpha*self.dz[l]\n",
    "    self.z[self.N] += alpha*self.dz[self.N]\n",
    "    if debug: \n",
    "        print(f\"x: {repr(self.x)}\")\n",
    "        print(f\"y: {repr(self.y)}\")\n",
    "        print(f\"z: {repr(self.z)}\")\n",
    "    \n",
    "    if alpha == alpha_max:\n",
    "        self.B[k], self.N[k] = False, True"
   ]
  },
  {
   "cell_type": "code",
   "execution_count": 4,
   "metadata": {},
   "outputs": [],
   "source": [
    "def primal_active_set_intermediate(self, l, debug=False):\n",
    "    if debug: \n",
    "        print(\"===STARTING INTERMEDIATE ITERATION===\")\n",
    "        print(f\"index l: {repr(l)}\")\n",
    "        print(f\"set B: {repr(self.B)}\")\n",
    "        print(f\"set N: {repr(self.N)}\")\n",
    "    self.dz[l] = 1\n",
    "    K_l = np.block([\n",
    "        [self.H[l,l]          , self.H[self.B,:][:,l].transpose(), self.A[:,l].transpose()     ],\n",
    "        [self.H[self.B,:][:,l], self.H[self.B,:][:,self.B]       , self.A[:,self.B].transpose()],\n",
    "        [self.A[:,l]          , self.A[:,self.B]                 , - self.M                    ]\n",
    "    ])\n",
    "    B_size = np.sum((self.B))\n",
    "    to_solve_A = K_l\n",
    "    to_solve_b = np.zeros(1+B_size+self.y.size)\n",
    "    to_solve_b[0] = 1\n",
    "    sol = np.linalg.solve(to_solve_A, to_solve_b).reshape((1+B_size+self.y.size,)) # numpy janky indexing\n",
    "    self.dx[l], self.dx[self.B], self.dy[:] = sol[0], sol[1:B_size+1], -sol[B_size+1:]\n",
    "    self.dz[self.N] = (\n",
    "        self.H[self.N,l]*self.dx[l]\n",
    "        + self.H[self.B,:][:,self.N].transpose().dot(self.dx[self.B])\n",
    "        - self.A[:,self.N].transpose().dot(self.dy)\n",
    "    )\n",
    "    if debug: \n",
    "        print(f\"dx: {repr(self.dx)}\")\n",
    "        print(f\"dy: {repr(self.dy)}\")\n",
    "        print(f\"dz: {repr(self.dz)}\")\n",
    "    \n",
    "    # compute alpha_star\n",
    "    alpha_star = - (self.z[l] + self.r[l])\n",
    "    if debug: print(f\"alpha*: \\t{str(alpha_star)}\")\n",
    "    \n",
    "    # compute alpha_max\n",
    "    neg_dx_mask = (self.dx < 0)\n",
    "    to_min = self.x + self.q\n",
    "    to_min[~neg_dx_mask] = np.inf\n",
    "    to_min[neg_dx_mask] /= (-self.dx[neg_dx_mask])\n",
    "    k = np.argmin(to_min)\n",
    "    alpha_max = to_min[k]\n",
    "    if debug: print(f\"alpha_max: \\t{str(alpha_max)}\")\n",
    "    if debug: print(f\"k: {str(k)}\")\n",
    "    \n",
    "    alpha = min(alpha_star, alpha_max)\n",
    "    if debug: print(f\"alpha: \\t\\t{str(alpha)}\")\n",
    "    \n",
    "    if np.isclose(alpha, 0, rtol=self.tol):\n",
    "        # some issues no clue why this happens...\n",
    "        raise Exception(\"Step size is 0\")\n",
    "    \n",
    "    # compute update\n",
    "    self.x[l] += alpha*self.dx[l]\n",
    "    self.x[self.B] += alpha*self.dx[self.B]\n",
    "    self.y[:] += alpha*self.dy\n",
    "    self.z[l] += alpha*self.dz[l]\n",
    "    self.z[self.N] += alpha*self.dz[self.N]\n",
    "    \n",
    "    if debug: \n",
    "        print(f\"x: {repr(self.x)}\")\n",
    "        print(f\"y: {repr(self.y)}\")\n",
    "        print(f\"z: {repr(self.z)}\")\n",
    "    \n",
    "    if alpha == alpha_max:\n",
    "        self.B[k], self.N[k] = False, True"
   ]
  },
  {
   "cell_type": "code",
   "execution_count": 5,
   "metadata": {},
   "outputs": [],
   "source": [
    "def solve_primal(self, debug=False, test_invariant=False, print_error=False):\n",
    "    # find x,y,z and N,B that satisfy conditions\n",
    "    while True:\n",
    "        l_list = np.argwhere((self.z + self.r) < 0)\n",
    "        if debug: print(f\"Indices that violate dual: {l_list.flatten()}\")\n",
    "        if l_list.size == 0:\n",
    "            break\n",
    "        l = l_list[0]\n",
    "        self.N[l] = False\n",
    "        primal_active_set_base(self, l, debug=debug)\n",
    "        while (self.z[l] + self.r[l]) < 0:\n",
    "            primal_active_set_intermediate(self, l, debug=debug)\n",
    "        self.B[l] = True\n",
    "        if print_error: print(\"eq. error: {}\\ninq. error: {}\".format(*self.get_error()))\n",
    "        if test_invariant: print(f\"Primal Feasibile: {self.test_primal_feasible()}\")"
   ]
  },
  {
   "cell_type": "markdown",
   "metadata": {},
   "source": [
    "Intial primal-feasable soluton conditions:\n",
    "- $A_Bx_B + A_Nx_N + My = b$\n",
    "- $H_{BB}x_B + H_{BN}x_N + c_B - A^T_By - z_B = 0$\n",
    "- $H^T_{BN}x_B + H_{NN}x_N + c_N - A^T_Ny - z_N = 0$\n",
    "- $x_N + q_N = 0$, \n",
    "- $z_B + r_B = 0$, \n",
    "- $x_B + q_B \\geq 0$"
   ]
  },
  {
   "cell_type": "markdown",
   "metadata": {
    "tags": []
   },
   "source": [
    "#### Example 1: Simple Primal-Feasible Solution:\n",
    "- A, M, H = eye()\n",
    "- B = \\[0,1\\], N = \\[2,3\\]"
   ]
  },
  {
   "cell_type": "code",
   "execution_count": 6,
   "metadata": {},
   "outputs": [],
   "source": [
    "n, m = 4, 6\n",
    "\n",
    "# we first fix B and N\n",
    "B = np.array([True, True, False, False])\n",
    "N = ~B  # bitwise not\n",
    "\n",
    "# take simple matrixes like eye\n",
    "A = np.eye(m, n)\n",
    "M = np.eye(m, m)\n",
    "H = np.eye(n, n)\n",
    "\n",
    "# c1: [x,0,0] + y = b\n",
    "# c2: x_B + c_B - y[0,1] - z_B = 0\n",
    "# c3: x_N + c_N - y[2,3] - z_N = 0\n",
    "# c4: x_B >= 0, x_N = 0, z_B = 0\n",
    "# base: z.N < 0\n",
    "\n",
    "# don't ask how i got these values, i don't know it myself\n",
    "b = np.array([1, 1,  2,  2,  0,  0])\n",
    "c = np.array([-1, -1, 1, 1])\n",
    "\n",
    "x = np.array([1, 1, 0, 0])\n",
    "y = np.array([0, 0, 2, 2, 0, 0])\n",
    "z = np.array([0, 0, -1, -1])"
   ]
  },
  {
   "cell_type": "code",
   "execution_count": 7,
   "metadata": {},
   "outputs": [],
   "source": [
    "AM = np.block([A, M])\n",
    "K_B = np.block([\n",
    "    [H[B,:][:,B], A[:,B].T],\n",
    "    [A[:,B]     , - M     ]\n",
    "])\n",
    "assert (np.linalg.matrix_rank(AM) == m), \"(A M) has not full rank\"\n",
    "assert (np.linalg.matrix_rank(K_B) == m+sum(B)), \"B is not second order consistent\""
   ]
  },
  {
   "cell_type": "code",
   "execution_count": 8,
   "metadata": {},
   "outputs": [],
   "source": [
    "Q = QuadraticProblem(A, b, c, H, M, q=None, r=None, tol=1e-8)\n",
    "Q.set_initial_solution(x,y,z)\n",
    "Q.set_inital_active_set(B, N)"
   ]
  },
  {
   "cell_type": "code",
   "execution_count": 9,
   "metadata": {},
   "outputs": [
    {
     "name": "stdout",
     "output_type": "stream",
     "text": [
      "Primal Feasible: True\n",
      "Dual Feasible: False\n"
     ]
    }
   ],
   "source": [
    "print(\"Primal Feasible:\", Q.test_primal_feasible())\n",
    "try:\n",
    "    Q.test_dual_feasible()\n",
    "except AssertionError as err:\n",
    "    print(f\"Dual Feasible: False\")"
   ]
  },
  {
   "cell_type": "code",
   "execution_count": 10,
   "metadata": {},
   "outputs": [
    {
     "name": "stdout",
     "output_type": "stream",
     "text": [
      "Indices that violate dual: [2 3]\n",
      "===STARTING BASE ITERATION===\n",
      "index l: array([2])\n",
      "set B: array([ True,  True, False, False])\n",
      "set N: array([False, False, False,  True])\n",
      "dx: array([0., 0., 1., 0.])\n",
      "dy: array([ 0.,  0., -1.,  0.,  0.,  0.])\n",
      "dz: array([0., 0., 2., 0.])\n",
      "alpha*: \t[0.5]\n",
      "alpha_max: \tinf\n",
      "k: 0\n",
      "alpha: \t\t[0.5]\n",
      "x: array([1. , 1. , 0.5, 0. ])\n",
      "y: array([0. , 0. , 1.5, 2. , 0. , 0. ])\n",
      "z: array([ 0.,  0.,  0., -1.])\n",
      "Primal Feasibile: True\n",
      "Indices that violate dual: [3]\n",
      "===STARTING BASE ITERATION===\n",
      "index l: array([3])\n",
      "set B: array([ True,  True,  True, False])\n",
      "set N: array([False, False, False, False])\n",
      "dx: array([0., 0., 0., 1.])\n",
      "dy: array([ 0.,  0.,  0., -1.,  0.,  0.])\n",
      "dz: array([0., 0., 2., 2.])\n",
      "alpha*: \t[0.5]\n",
      "alpha_max: \tinf\n",
      "k: 0\n",
      "alpha: \t\t[0.5]\n",
      "x: array([1. , 1. , 0.5, 0.5])\n",
      "y: array([0. , 0. , 1.5, 1.5, 0. , 0. ])\n",
      "z: array([0., 0., 0., 0.])\n",
      "Primal Feasibile: True\n",
      "Indices that violate dual: []\n"
     ]
    }
   ],
   "source": [
    "solve_primal(Q, debug=True, test_invariant=True)"
   ]
  },
  {
   "cell_type": "code",
   "execution_count": 11,
   "metadata": {},
   "outputs": [
    {
     "data": {
      "text/plain": [
       "2.5"
      ]
     },
     "execution_count": 11,
     "metadata": {},
     "output_type": "execute_result"
    }
   ],
   "source": [
    "Q.get_solution()"
   ]
  },
  {
   "cell_type": "code",
   "execution_count": 12,
   "metadata": {},
   "outputs": [
    {
     "data": {
      "text/plain": [
       "True"
      ]
     },
     "execution_count": 12,
     "metadata": {},
     "output_type": "execute_result"
    }
   ],
   "source": [
    "Q.test_dual_feasible()"
   ]
  },
  {
   "cell_type": "markdown",
   "metadata": {
    "tags": []
   },
   "source": [
    "#### Example 2: with Intermediate Interations\n",
    "I need $\\Delta x_B$ to go outside bound when making the first step\n",
    "to increase $\\Delta x_l$ meaning some value in $x_B$ has to be linearly correlated with $x_l$. To do this we need a non identity matrix and $x_B = 0$."
   ]
  },
  {
   "cell_type": "code",
   "execution_count": 13,
   "metadata": {},
   "outputs": [],
   "source": [
    "n, m = 4, 6\n",
    "\n",
    "# we first fix B and N\n",
    "B = np.array([True, True, False, False])\n",
    "N = ~B  # bitwise not\n",
    "\n",
    "# take simple matrixes like eye\n",
    "A = np.eye(m, n)\n",
    "A[2,1] = 1  # add component 1 to component 2\n",
    "M = np.eye(m, m)\n",
    "H = np.eye(n, n)\n",
    "\n",
    "# c1 a: for index [0,1,3,4] : [x,0,0] + y = b for \n",
    "# c1 b: for index [2]: x[1] + x[2] + y[2] = b[2]\n",
    "# c2: x_B + c_B - y[0,1] - z_B = 0\n",
    "# c3: x_N + c_N - y[2,3] - z_N = 0\n",
    "# c4: x_B >= 0, x_N = 0, z_B = 0\n",
    "# base: z.N < 0\n",
    "\n",
    "b = np.array([1, 1,  2,  2,  0,  0])\n",
    "c = np.array([-1, 3, 1, 1])\n",
    "\n",
    "x = np.array([1, 0, 0, 0])\n",
    "y = np.array([0, 1, 2, 2, 0, 0])\n",
    "z = np.array([0, 0, -1, -1])"
   ]
  },
  {
   "cell_type": "code",
   "execution_count": 14,
   "metadata": {},
   "outputs": [],
   "source": [
    "AM = np.block([A, M])\n",
    "K_B = np.block([\n",
    "    [H[B,:][:,B], A[:,B].T],\n",
    "    [A[:,B]     , - M     ]\n",
    "])\n",
    "assert (np.linalg.matrix_rank(AM) == m), \"(A M) has not full rank\"\n",
    "assert (np.linalg.matrix_rank(K_B) == m+sum(B)), \"B is not second order consistent\""
   ]
  },
  {
   "cell_type": "code",
   "execution_count": 15,
   "metadata": {},
   "outputs": [],
   "source": [
    "Q = QuadraticProblem(A, b, c, H, M, q=None, r=None, tol=1e-8)\n",
    "Q.set_initial_solution(x,y,z)\n",
    "Q.set_inital_active_set(B, N)"
   ]
  },
  {
   "cell_type": "code",
   "execution_count": 16,
   "metadata": {},
   "outputs": [
    {
     "name": "stdout",
     "output_type": "stream",
     "text": [
      "Primal Feasible: True\n",
      "Dual Feasible: False\n"
     ]
    }
   ],
   "source": [
    "print(\"Primal Feasible:\", Q.test_primal_feasible())\n",
    "try:\n",
    "    Q.test_dual_feasible()\n",
    "except AssertionError as err:\n",
    "    print(f\"Dual Feasible: False\")"
   ]
  },
  {
   "cell_type": "code",
   "execution_count": 17,
   "metadata": {},
   "outputs": [
    {
     "name": "stdout",
     "output_type": "stream",
     "text": [
      "Indices that violate dual: [2 3]\n",
      "===STARTING BASE ITERATION===\n",
      "index l: array([2])\n",
      "set B: array([ True,  True, False, False])\n",
      "set N: array([False, False, False,  True])\n",
      "dx: array([ 0.        , -0.33333333,  1.        ,  0.        ])\n",
      "dy: array([ 0.        ,  0.33333333, -0.66666667,  0.        ,  0.        ,\n",
      "        0.        ])\n",
      "dz: array([0.        , 0.        , 1.66666667, 0.        ])\n",
      "alpha*: \t[0.6]\n",
      "alpha_max: \t0.0\n",
      "k: 1\n",
      "alpha: \t\t0.0\n",
      "x: array([1., 0., 0., 0.])\n",
      "y: array([0., 1., 2., 2., 0., 0.])\n",
      "z: array([ 0.,  0., -1., -1.])\n",
      "===STARTING INTERMEDIATE ITERATION===\n",
      "index l: array([2])\n",
      "set B: array([ True, False, False, False])\n",
      "set N: array([False,  True, False,  True])\n",
      "dx: array([ 0.        , -0.33333333,  0.5       ,  0.        ])\n",
      "dy: array([ 0. ,  0. , -0.5,  0. ,  0. ,  0. ])\n",
      "dz: array([0. , 0.5, 1. , 0. ])\n",
      "alpha*: \t[1.]\n",
      "alpha_max: \t0.0\n",
      "k: 1\n",
      "alpha: \t\t0.0\n",
      "Error: Step size is 0\n"
     ]
    }
   ],
   "source": [
    "try:\n",
    "    solve_primal(Q, debug=True, test_invariant=True)\n",
    "except Exception as e:\n",
    "    print(\"Error:\", e)"
   ]
  },
  {
   "cell_type": "markdown",
   "metadata": {},
   "source": [
    "I have no clue as to why it is not working every pass values is valid:\n",
    "- (A M) has full rank\n",
    "- M, N are positive definite and symmetric\n",
    "- B is second-order consistent\n",
    "- the initial solution (x,y,z) is primal feasible\n",
    "\n",
    "Maybe there are no solution (contraint generate a null set)?"
   ]
  },
  {
   "cell_type": "markdown",
   "metadata": {},
   "source": [
    "## Dual Active Set"
   ]
  },
  {
   "cell_type": "code",
   "execution_count": 18,
   "metadata": {},
   "outputs": [],
   "source": [
    "def dual_active_set_base(self, l, debug=False):\n",
    "    if debug: \n",
    "        print(\"===STARTING BASE ITERATION===\")\n",
    "        print(f\"index l: {repr(l)}\")\n",
    "        print(f\"set B: {repr(self.B)}\")\n",
    "        print(f\"set N: {repr(self.N)}\")\n",
    "    # compute dx, dy, dz\n",
    "    # block and B_size are temporary mockups\n",
    "    # all [rows,:][:,columns].transpose() should be inverted instead\n",
    "    self.dz[l] = 1\n",
    "    K_l = np.block([\n",
    "        [self.H[l,l]          , self.H[self.B,:][:,l].transpose(), self.A[:,l].transpose()     ],\n",
    "        [self.H[self.B,:][:,l], self.H[self.B,:][:,self.B]       , self.A[:,self.B].transpose()],\n",
    "        [self.A[:,l]          , self.A[:,self.B]                 , - self.M                    ]\n",
    "    ])\n",
    "    B_size = np.sum((self.B))\n",
    "    to_solve_A = K_l\n",
    "    to_solve_b = np.zeros(1+B_size+self.y.size)\n",
    "    to_solve_b[0] = 1\n",
    "    sol = np.linalg.solve(to_solve_A, to_solve_b).reshape((1+B_size+self.y.size,))\n",
    "    self.dx[l], self.dx[self.B], self.dy[:] = sol[0], sol[1:B_size+1], -sol[B_size+1:]\n",
    "    self.dz[self.N] = (\n",
    "        self.H[self.N,l]*self.dx[l] \n",
    "        + self.H[self.B,:][:,self.N].transpose().dot(self.dx[self.B])\n",
    "        - self.A[:,self.N].transpose().dot(self.dy)\n",
    "    )\n",
    "    if debug: \n",
    "        print(f\"dx: {repr(self.dx)}\")\n",
    "        print(f\"dy: {repr(self.dy)}\")\n",
    "        print(f\"dz: {repr(self.dz)}\")\n",
    "    \n",
    "    # compute alpha_star\n",
    "    if np.allclose(self.dx[l], 0, rtol=self.tol):    # dx[l] == 0\n",
    "        alpha_star = np.inf\n",
    "    else:\n",
    "        alpha_star = - (self.x[l] + self.q[l]) / self.dx[l]\n",
    "    if debug: print(f\"alpha*: \\t{str(alpha_star)}\")\n",
    "    \n",
    "    # compute alpha_max\n",
    "    neg_dz_mask = (self.dz < 0)\n",
    "    to_min = self.z + self.r\n",
    "    to_min[~neg_dz_mask] = np.inf\n",
    "    to_min[neg_dz_mask] /= (-self.dz[neg_dz_mask])\n",
    "    k = np.argmin(to_min)\n",
    "    alpha_max = to_min[k]\n",
    "    if debug: print(f\"alpha_max: \\t{str(alpha_max)}\")\n",
    "    if debug: print(f\"k: {str(k)}\")\n",
    "    \n",
    "    alpha = min(alpha_star, alpha_max)\n",
    "    if debug: print(f\"alpha: \\t\\t{str(alpha)}\")\n",
    "    \n",
    "    if np.isinf(alpha):\n",
    "        # terminate dual is unbounded (primal is unfeasible)\n",
    "        raise Exception(\"Dual is Unbounded (Primal is Unfeasible)\")\n",
    "    \n",
    "    # compute update\n",
    "    self.x[l] += alpha*self.dx[l]\n",
    "    self.x[self.B] += alpha*self.dx[self.B]\n",
    "    self.y[:] += alpha*self.dy\n",
    "    self.z[l] += alpha*self.dz[l]\n",
    "    self.z[self.N] += alpha*self.dz[self.N]\n",
    "    \n",
    "    if debug: \n",
    "        print(f\"x: {repr(self.x)}\")\n",
    "        print(f\"y: {repr(self.y)}\")\n",
    "        print(f\"z: {repr(self.z)}\")\n",
    "    \n",
    "    if alpha == alpha_max:\n",
    "        self.B[k], self.N[k] = True, False"
   ]
  },
  {
   "cell_type": "code",
   "execution_count": 19,
   "metadata": {},
   "outputs": [],
   "source": [
    "def dual_active_set_intermediate(self, l, debug=False):\n",
    "    self.dx[l] = 1\n",
    "    K_B = np.block([\n",
    "        [self.H[self.B,:][:,self.B], self.A[:,self.B].transpose()],\n",
    "        [       self.A[:,self.B]   ,         - self.M            ]\n",
    "    ])\n",
    "    B_size = np.sum((self.B))\n",
    "    to_solve_A = K_B\n",
    "    to_solve_b = - np.concatenate([self.H[self.B,:][:,l], self.A[:,l]])\n",
    "    sol = np.linalg.solve(to_solve_A, to_solve_b).reshape((B_size+self.y.size,))\n",
    "    self.dx[self.B], self.dy[:] = sol[:B_size], -sol[B_size:]\n",
    "    self.dz[self.N] = (\n",
    "        self.H[self.N,:][:,l]*self.dx[l]\n",
    "        + self.H[self.B,:][:,self.N].transpose().dot(self.dx[self.B])\n",
    "        - self.A[:,self.N].transpose().dot(self.dy)\n",
    "    )\n",
    "    self.dz[l] = (\n",
    "        self.H[l,:][:,l]*self.dx[l]\n",
    "        + self.H[self.B,:][:,l].transpose().dot(self.dx[self.B])\n",
    "        - self.A[:,l].transpose().dot(self.dy)\n",
    "    )\n",
    "    \n",
    "    # compute alpha_star\n",
    "    alpha_star = - (self.x[l] + self.q[l])\n",
    "    \n",
    "    # compute alpha_max\n",
    "    neg_dz_mask = (self.dz < 0)\n",
    "    to_min = self.z + self.r\n",
    "    to_min[~neg_dz_mask] = np.inf\n",
    "    to_min[neg_dz_mask] /= (-self.dz[neg_dz_mask])\n",
    "    k = np.argmin(to_min)\n",
    "    alpha_max = to_min[k]\n",
    "    if debug: print(f\"alpha_max: \\t{str(alpha_max)}\")\n",
    "    if debug: print(f\"k: {str(k)}\")\n",
    "    \n",
    "    alpha = np.min(alpha_star, alpha_max)\n",
    "    \n",
    "    if np.isclose(alpha, 0, rtol=self.tol):\n",
    "        # some issues no clue why this happens...\n",
    "        raise Exception(\"Step size is 0\")\n",
    "    \n",
    "    # compute update\n",
    "    self.x[l] += alpha*self.dx[l]\n",
    "    self.x[self.B] += alpha*self.dx[self.B]\n",
    "    self.y[:] += alpha*self.dy\n",
    "    self.z[l] += alpha*self.dz[l]\n",
    "    self.z[self.N] += alpha*self.dz[self.N]\n",
    "    \n",
    "    if alpha == alpha_max:\n",
    "        self.B[k], self.N[k] = True, False"
   ]
  },
  {
   "cell_type": "code",
   "execution_count": 20,
   "metadata": {},
   "outputs": [],
   "source": [
    "def solve_dual(self, debug=False, test_invariant=False, print_error=False):\n",
    "    # find x,y,z and N,B that satisfy conditions\n",
    "    while True:\n",
    "        l_list = np.argwhere((self.x + self.q) < 0)\n",
    "        if debug: print(f\"Indices that violate primal: {l_list.flatten()}\")\n",
    "        if l_list.size == 0:\n",
    "            break\n",
    "        l = l_list[0]\n",
    "        self.B[l] = False\n",
    "        dual_active_set_base(self, l, debug=debug)\n",
    "        while (self.x[l] + self.q[l]) < 0:\n",
    "            dual_active_set_intermediate(self, l, debug=debug)\n",
    "        self.N[l] = True\n",
    "        if print_error: print(\"eq. error: {}\\ninq. error: {}\".format(*self.get_error()))\n",
    "        if test_invariant: print(f\"Dual Feasibile: {self.test_dual_feasible()}\")"
   ]
  },
  {
   "cell_type": "markdown",
   "metadata": {},
   "source": [
    "Initial dual-feasable soluton conditions:\n",
    "- $Hx + c - A^Ty - z = 0$\n",
    "- $Ax + My - b = 0$\n",
    "- $x_N + q_N = 0$, \n",
    "- $z_B + r_B = 0$, \n",
    "- $z_N + r_N \\geq 0$"
   ]
  },
  {
   "cell_type": "markdown",
   "metadata": {
    "tags": []
   },
   "source": [
    "#### Example 1: Simple Dual-Feasible Solution: TODO\n",
    "- A, M, H = eye()\n",
    "- B = \\[0,1\\], N = \\[2,3\\]"
   ]
  },
  {
   "cell_type": "code",
   "execution_count": 21,
   "metadata": {},
   "outputs": [],
   "source": [
    "n, m = 4, 6\n",
    "\n",
    "# we first fix B and N\n",
    "B = np.array([True, True, False, False])\n",
    "N = ~B  # bitwise not\n",
    "\n",
    "# take simple matrixes like eye\n",
    "A = np.eye(m, n)\n",
    "M = np.eye(m, m)\n",
    "H = np.eye(n, n)\n",
    "\n",
    "# c1: x + c - y[0,1,2,3] - z = 0\n",
    "# c2: [x,0,0] + y - b = 0\n",
    "# c3: z_N >= 0, z_B = 0, x_N = 0\n",
    "# base: x_B < 0\n",
    "\n",
    "b = np.array([-1, -1, 0, 0, 0, 0])\n",
    "c = np.array([1, 1, 1, 1])\n",
    "\n",
    "x = np.array([-1, -1, 0, 0])\n",
    "y = np.array([0, 0, 0, 0, 0, 0])\n",
    "z = np.array([0, 0, 1, 1])"
   ]
  },
  {
   "cell_type": "code",
   "execution_count": 22,
   "metadata": {},
   "outputs": [],
   "source": [
    "Q = QuadraticProblem(A, b, c, H, M, q=None, r=None, tol=1e-8)\n",
    "Q.set_initial_solution(x,y,z)\n",
    "Q.set_inital_active_set(B, N)"
   ]
  },
  {
   "cell_type": "code",
   "execution_count": 23,
   "metadata": {},
   "outputs": [
    {
     "name": "stdout",
     "output_type": "stream",
     "text": [
      "Dual Feasible: True\n",
      "Primal Feasible: False\n"
     ]
    }
   ],
   "source": [
    "print(\"Dual Feasible:\", Q.test_dual_feasible())\n",
    "try:\n",
    "    Q.test_primal_feasible()\n",
    "except AssertionError as err:\n",
    "    print(f\"Primal Feasible: False\")"
   ]
  },
  {
   "cell_type": "code",
   "execution_count": 24,
   "metadata": {},
   "outputs": [
    {
     "name": "stdout",
     "output_type": "stream",
     "text": [
      "Indices that violate primal: [0 1]\n",
      "===STARTING BASE ITERATION===\n",
      "index l: array([0])\n",
      "set B: array([False,  True, False, False])\n",
      "set N: array([False, False,  True,  True])\n",
      "dx: array([0.5, 0. , 0. , 0. ])\n",
      "dy: array([-0.5,  0. ,  0. ,  0. ,  0. ,  0. ])\n",
      "dz: array([1., 0., 0., 0.])\n",
      "alpha*: \t[2.]\n",
      "alpha_max: \tinf\n",
      "k: 0\n",
      "alpha: \t\t[2.]\n",
      "x: array([ 0., -1.,  0.,  0.])\n",
      "y: array([-1.,  0.,  0.,  0.,  0.,  0.])\n",
      "z: array([2., 0., 1., 1.])\n",
      "Dual Feasibile: True\n",
      "Indices that violate primal: [1]\n",
      "===STARTING BASE ITERATION===\n",
      "index l: array([1])\n",
      "set B: array([False, False, False, False])\n",
      "set N: array([ True, False,  True,  True])\n",
      "dx: array([0.5, 0.5, 0. , 0. ])\n",
      "dy: array([ 0. , -0.5,  0. ,  0. , -0. , -0. ])\n",
      "dz: array([0., 1., 0., 0.])\n",
      "alpha*: \t[2.]\n",
      "alpha_max: \tinf\n",
      "k: 0\n",
      "alpha: \t\t[2.]\n",
      "x: array([0., 0., 0., 0.])\n",
      "y: array([-1., -1.,  0.,  0.,  0.,  0.])\n",
      "z: array([2., 2., 1., 1.])\n",
      "Dual Feasibile: True\n",
      "Indices that violate primal: []\n"
     ]
    }
   ],
   "source": [
    "solve_dual(Q, debug=True, test_invariant=True)"
   ]
  },
  {
   "cell_type": "code",
   "execution_count": 25,
   "metadata": {},
   "outputs": [
    {
     "data": {
      "text/plain": [
       "1.0"
      ]
     },
     "execution_count": 25,
     "metadata": {},
     "output_type": "execute_result"
    }
   ],
   "source": [
    "Q.get_solution()"
   ]
  },
  {
   "cell_type": "code",
   "execution_count": 26,
   "metadata": {},
   "outputs": [
    {
     "data": {
      "text/plain": [
       "True"
      ]
     },
     "execution_count": 26,
     "metadata": {},
     "output_type": "execute_result"
    }
   ],
   "source": [
    "Q.test_primal_feasible()"
   ]
  },
  {
   "cell_type": "markdown",
   "metadata": {
    "tags": []
   },
   "source": [
    "#### Example 2: with Intermediate Interations\n",
    "I need $\\alpha_{max}$ to be less then $\\alpha_*$. So $\\Delta z_i$ needs to be negative for some $i$."
   ]
  },
  {
   "cell_type": "markdown",
   "metadata": {},
   "source": [
    "I CAN'T FIGURE OUT A WAY TO DO THIS AAAHHHHH"
   ]
  },
  {
   "cell_type": "code",
   "execution_count": 27,
   "metadata": {},
   "outputs": [],
   "source": [
    "n, m = 4, 6\n",
    "\n",
    "# we first fix B and N\n",
    "B = np.array([True, True, False, False])\n",
    "N = ~B  # bitwise not\n",
    "\n",
    "# take simple matrixes like eye\n",
    "A = np.eye(m, n)\n",
    "M = np.eye(m, m)\n",
    "H = np.eye(n, n)\n",
    "\n",
    "# if l=0 and z[2] is negative\n",
    "# alpha_star = x[0]+q[0]/-(dx[0])\n",
    "# alpha_max = z[2]+r[2]/-(dz[2])\n",
    "\n",
    "# c1: x + c - y[0,1,2,3] - z = 0\n",
    "# c2: [x,0,0] + y - b = 0\n",
    "# c3: z_N >= 0, z_B = 0, x_N = 0\n",
    "# base: x_B < 0\n",
    "\n",
    "b = np.array([-1, 0, 0, 0, 0, 0])\n",
    "c = np.array([1, 0, -1, 0])\n",
    "\n",
    "x = np.array([-1, 0, 0, 0])\n",
    "y = np.array([0, 0, 0, 0, 0, 0])\n",
    "z = np.array([0, 0, -1, 0])\n",
    "\n",
    "# r[3]>=z[3] inq. constrain\n",
    "r = np.array([0, 0, 1, 0])"
   ]
  },
  {
   "cell_type": "code",
   "execution_count": 28,
   "metadata": {},
   "outputs": [],
   "source": [
    "Q = QuadraticProblem(A, b, c, H, M, q=None, r=r, tol=1e-8)\n",
    "Q.set_initial_solution(x,y,z)\n",
    "Q.set_inital_active_set(B, N)"
   ]
  },
  {
   "cell_type": "code",
   "execution_count": 29,
   "metadata": {},
   "outputs": [
    {
     "name": "stdout",
     "output_type": "stream",
     "text": [
      "Dual Feasible: True\n",
      "Primal Feasible: False\n"
     ]
    }
   ],
   "source": [
    "print(\"Dual Feasible:\", Q.test_dual_feasible())\n",
    "try:\n",
    "    Q.test_primal_feasible()\n",
    "except AssertionError as err:\n",
    "    print(f\"Primal Feasible: False\")"
   ]
  },
  {
   "cell_type": "code",
   "execution_count": 30,
   "metadata": {},
   "outputs": [
    {
     "data": {
      "text/plain": [
       "(0.0, 1.0)"
      ]
     },
     "execution_count": 30,
     "metadata": {},
     "output_type": "execute_result"
    }
   ],
   "source": [
    "Q.get_error()"
   ]
  },
  {
   "cell_type": "code",
   "execution_count": 31,
   "metadata": {},
   "outputs": [
    {
     "name": "stdout",
     "output_type": "stream",
     "text": [
      "Indices that violate primal: [0]\n",
      "===STARTING BASE ITERATION===\n",
      "index l: array([0])\n",
      "set B: array([False,  True, False, False])\n",
      "set N: array([False, False,  True,  True])\n",
      "dx: array([0.5, 0. , 0. , 0. ])\n",
      "dy: array([-0.5,  0. ,  0. ,  0. ,  0. ,  0. ])\n",
      "dz: array([1., 0., 0., 0.])\n",
      "alpha*: \t[2.]\n",
      "alpha_max: \tinf\n",
      "k: 0\n",
      "alpha: \t\t[2.]\n",
      "x: array([0., 0., 0., 0.])\n",
      "y: array([-1.,  0.,  0.,  0.,  0.,  0.])\n",
      "z: array([ 2.,  0., -1.,  0.])\n",
      "eq. error: 0.0\n",
      "inq. error: 0\n",
      "Dual Feasibile: True\n",
      "Indices that violate primal: []\n"
     ]
    }
   ],
   "source": [
    "solve_dual(Q, debug=True, test_invariant=True, print_error=True)"
   ]
  },
  {
   "cell_type": "code",
   "execution_count": 32,
   "metadata": {},
   "outputs": [
    {
     "data": {
      "text/plain": [
       "True"
      ]
     },
     "execution_count": 32,
     "metadata": {},
     "output_type": "execute_result"
    }
   ],
   "source": [
    "Q.test_primal_feasible()"
   ]
  },
  {
   "cell_type": "markdown",
   "metadata": {},
   "source": [
    "## ISSUES"
   ]
  },
  {
   "cell_type": "markdown",
   "metadata": {
    "tags": []
   },
   "source": [
    "##### Issues: Type returned is different when B or N has dimension 1"
   ]
  },
  {
   "cell_type": "code",
   "execution_count": 33,
   "metadata": {},
   "outputs": [
    {
     "data": {
      "text/plain": [
       "array([3])"
      ]
     },
     "execution_count": 33,
     "metadata": {},
     "output_type": "execute_result"
    }
   ],
   "source": [
    "B = np.array([True,False,False])\n",
    "N = ~B\n",
    "M = np.array([[1,2,3],[4,5,6],[7,8,9]])\n",
    "M[B,:][:,2]"
   ]
  },
  {
   "cell_type": "code",
   "execution_count": 34,
   "metadata": {},
   "outputs": [
    {
     "data": {
      "text/plain": [
       "array([[3]])"
      ]
     },
     "execution_count": 34,
     "metadata": {},
     "output_type": "execute_result"
    }
   ],
   "source": [
    "M[B,:][:,[2]]"
   ]
  },
  {
   "cell_type": "code",
   "execution_count": 35,
   "metadata": {},
   "outputs": [
    {
     "data": {
      "text/plain": [
       "array([[5, 6],\n",
       "       [8, 9]])"
      ]
     },
     "execution_count": 35,
     "metadata": {},
     "output_type": "execute_result"
    }
   ],
   "source": [
    "M[N,:][:,N]"
   ]
  },
  {
   "cell_type": "markdown",
   "metadata": {},
   "source": [
    "## Combining Primal and Dual"
   ]
  },
  {
   "cell_type": "code",
   "execution_count": null,
   "metadata": {},
   "outputs": [],
   "source": []
  }
 ],
 "metadata": {
  "kernelspec": {
   "display_name": "Python 2",
   "language": "python",
   "name": "python2"
  },
  "language_info": {
   "codemirror_mode": {
    "name": "ipython",
    "version": 2
   },
   "file_extension": ".py",
   "mimetype": "text/x-python",
   "name": "python",
   "nbconvert_exporter": "python",
   "pygments_lexer": "ipython2",
   "version": "2.7.17"
  }
 },
 "nbformat": 4,
 "nbformat_minor": 5
}
