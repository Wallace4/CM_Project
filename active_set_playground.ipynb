{
 "cells": [
  {
   "cell_type": "code",
   "execution_count": 1,
   "metadata": {},
   "outputs": [],
   "source": [
    "import numpy as np"
   ]
  },
  {
   "cell_type": "code",
   "execution_count": 2,
   "metadata": {},
   "outputs": [],
   "source": [
    "class quadratic_problem:\n",
    "    def __init__(self, A, b, c, H, M, q=None, r=None, tol=1e-8):\n",
    "        def check_shape(x, dim=None, varname=\"\"):\n",
    "            if isinstance(x, np.ndarray):\n",
    "                if dim == None or x.shape == dim:\n",
    "                    return x\n",
    "                else: raise TypeError(f\"{varname} has shape {x.shape} expected {dim}\")\n",
    "            else: raise TypeError(f\"{varname} is not {type({np.ndarray})}\")\n",
    "        \n",
    "        self.tol = tol\n",
    "            \n",
    "        # shape of A is assumed to be correct\n",
    "        self.A = check_shape(A, varname=\"A\")\n",
    "        m, n = A.shape\n",
    "        \n",
    "        self.b = check_shape(b, dim=(m,), varname=\"b\")\n",
    "        self.c = check_shape(c, dim=(n,), varname=\"c\")\n",
    "        self.H = check_shape(H, dim=(n,n), varname=\"H\")\n",
    "        self.M = check_shape(M, dim=(m,m), varname=\"M\")\n",
    "        \n",
    "        self.q = check_shape(q, dim=(n,), varname=\"q\") if q else np.zeros(n)\n",
    "        self.r = check_shape(r, dim=(n,), varname=\"r\") if q else np.zeros(n)\n",
    "        \n",
    "        # init solutions\n",
    "        self.x = np.zeros(n)\n",
    "        self.y = np.zeros(m)\n",
    "        self.z = np.zeros(n)\n",
    "        \n",
    "        # init deltas\n",
    "        self.dx = np.zeros(n)\n",
    "        self.dy = np.zeros(m)\n",
    "        self.dz = np.zeros(n)\n",
    "        \n",
    "        # init B, N (temporary)\n",
    "        self.B = np.full(n, True)\n",
    "        self.N = np.full(n, False)"
   ]
  },
  {
   "cell_type": "code",
   "execution_count": 3,
   "metadata": {
    "tags": []
   },
   "outputs": [],
   "source": [
    "A1 = np.random.rand(100,200)\n",
    "b1 = np.random.rand(100)\n",
    "c1 = np.random.rand(200)\n",
    "H1 = np.random.rand(200,200)\n",
    "M1 = np.random.rand(100,100)"
   ]
  },
  {
   "cell_type": "code",
   "execution_count": 4,
   "metadata": {},
   "outputs": [],
   "source": [
    "Q = quadratic_problem(A1, b1, c1, H1, M1)"
   ]
  },
  {
   "cell_type": "markdown",
   "metadata": {},
   "source": [
    "## Primal Active Set"
   ]
  },
  {
   "cell_type": "code",
   "execution_count": 5,
   "metadata": {},
   "outputs": [],
   "source": [
    "def primal_active_set_base(self, l):\n",
    "    # compute dx, dy, dz\n",
    "    # block and B_size are temporary mockups\n",
    "    # all [rows,:][:,columns].transpose() should be inverted instead\n",
    "    self.dx[l] = 1\n",
    "    K_B = np.block([\n",
    "        [self.H[self.B,:][:,self.B], self.A[:,self.B].transpose()],\n",
    "        [       self.A[:,self.B]   ,         - self.M            ]\n",
    "    ])\n",
    "    B_size = np.sum((self.B))\n",
    "    to_solve_A = K_B\n",
    "    to_solve_b = - np.concatenate([self.H[self.B,:][:,l], self.A[:,l]])\n",
    "    sol = np.linalg.solve(to_solve_A, to_solve_b)\n",
    "    self.dx[self.B], self.dy[:] = sol[:B_size], - sol[B_size:]\n",
    "    self.dz[self.N] = (\n",
    "        self.H[self.N,:][:,l]*self.dx[l]\n",
    "        + self.H[self.B,:][:,self.N].transpose().dot(self.dx[self.B])\n",
    "        + self.A[:,self.N].transpose().dot(self.dy)\n",
    "    )\n",
    "    self.dz[l] = (\n",
    "        self.H[l,:][:,l]*self.dx[l]\n",
    "        + self.H[self.B,:][:,l].transpose().dot(self.dx[self.B])\n",
    "        + self.A[:,l].transpose().dot(self.dy)\n",
    "    )\n",
    "    \n",
    "    # compute alpha_star\n",
    "    if np.allclose(dz[l], 0, rtol=tol):    # dz[l] == 0\n",
    "        alpha_star = np.inf\n",
    "    else:\n",
    "        alpha_star = - (self.z[l] + self.r[l]) / dz[l]\n",
    "    \n",
    "    # compute alpha_max\n",
    "    dx_i_neg = (dx < 0)\n",
    "    to_min = (self.x[dx_i_neg] + self.q[dx_i_neg] / (-dx[dx_i_neg]))\n",
    "    k = np.argmin(to_min)\n",
    "    alpha_max = to_min[k]\n",
    "    \n",
    "    alpha = np.min(alpha_star, alpha_max)\n",
    "    \n",
    "    if np.isinf(alpha):\n",
    "        # terminate primal is unbounded (dual is unfeasible)\n",
    "        raise Exception(\"Primal is Unbounded (Dual is Unfeasible)\")\n",
    "    \n",
    "    # compute update\n",
    "    self.x[l] += alpha*self.dx[l]\n",
    "    self.x[B] += alpha*self.dx[B]\n",
    "    self.y[:] += alpha*self.dy\n",
    "    self.z[l] += alpha*self.dz[l]\n",
    "    self.z[N] += alpha*self.dz[N]\n",
    "    \n",
    "    if alpha == alpha_max:\n",
    "        self.B[k], self.N[k] = False, True"
   ]
  },
  {
   "cell_type": "code",
   "execution_count": 6,
   "metadata": {},
   "outputs": [],
   "source": [
    "def primal_active_set_intermediate(self, l):\n",
    "    self.dz[l] = 1\n",
    "    K_l = np.block([\n",
    "        [self.H[l,:][:,l]     , self.H[self.B,:][:,l].transpose(), self.A[:,l].transpose()     ],\n",
    "        [self.H[self.B,:][:,l], self.H[self.B,:][:,self.B]       , self.A[:,self.B].transpose()],\n",
    "        [self.A[:,l]          , self.A[:,B]                      , - self.M                    ]\n",
    "    ])\n",
    "    B_size = np.sum((self.B))\n",
    "    to_solve_A = K_l\n",
    "    to_solve_b = np.concatenate(np.ones(1), np.zeros(B_size + self.y))\n",
    "    sol = np.linalg.solve(to_solve_A, to_solve_b)\n",
    "    self.dx[l], self.dx[self.B], self.dy[:] = sol[0], sol[1:B_size+1], sol[B_size+1:]\n",
    "    self.dz[self.N] = (\n",
    "        self.H[self.N,:][:,l]*self.dx[l]\n",
    "        + self.H[self.B,:][:,self.N].transpose().dot(self.dx[self.B])\n",
    "        + self.A[:,self.N].transpose().dot(self.dy)\n",
    "    )\n",
    "    \n",
    "    # compute alpha_star\n",
    "    alpha_star = - (self.z[l] + self.r[l])\n",
    "    \n",
    "    # compute alpha_max\n",
    "    dx_i_neg = (dx < 0)\n",
    "    to_min = (self.x[dx_i_neg] + self.q[dx_i_neg] / (-dx[dx_i_neg]))\n",
    "    k = np.argmin(to_min)\n",
    "    alpha_max = to_min[k]\n",
    "    \n",
    "    alpha = np.min(alpha_star, alpha_max)\n",
    "    \n",
    "    # compute update\n",
    "    self.x[l] += alpha*self.dx[l]\n",
    "    self.x[B] += alpha*self.dx[B]\n",
    "    self.y[:] += alpha*self.dy\n",
    "    self.z[l] += alpha*self.dz[l]\n",
    "    self.z[N] += alpha*self.dz[N]\n",
    "    \n",
    "    if alpha == alpha_max:\n",
    "        self.B[k], self.N[k] = False, True"
   ]
  },
  {
   "cell_type": "code",
   "execution_count": 7,
   "metadata": {},
   "outputs": [],
   "source": [
    "def solve_primal(self):\n",
    "    # find x,y,z and N,B that satisfy conditions\n",
    "    while True:\n",
    "        l_list = np.argwhere((self.z + self.r) < 0)\n",
    "        if l_list.size == 0:\n",
    "            break\n",
    "        l = l_list[0]\n",
    "        self.N[l] = False\n",
    "        primal_active_set_base(self, l)\n",
    "        while (self.z[l] + self.r[l]) < 0:\n",
    "            primal_active_set_intermediate(self, l)\n",
    "        self.B[l] = True"
   ]
  },
  {
   "cell_type": "markdown",
   "metadata": {},
   "source": [
    "Non so come computare una soluzione iniziale (x,y,z) e il set B, N"
   ]
  },
  {
   "cell_type": "code",
   "execution_count": 8,
   "metadata": {},
   "outputs": [],
   "source": [
    "solve_primal(Q)"
   ]
  }
 ],
 "metadata": {
  "kernelspec": {
   "display_name": "Python 2",
   "language": "python",
   "name": "python2"
  },
  "language_info": {
   "codemirror_mode": {
    "name": "ipython",
    "version": 2
   },
   "file_extension": ".py",
   "mimetype": "text/x-python",
   "name": "python",
   "nbconvert_exporter": "python",
   "pygments_lexer": "ipython2",
   "version": "2.7.17"
  }
 },
 "nbformat": 4,
 "nbformat_minor": 5
}
