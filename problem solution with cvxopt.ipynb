{
 "cells": [
  {
   "cell_type": "code",
   "execution_count": 97,
   "id": "344903cb-2ae2-4f49-9047-52ac9dcb4fc7",
   "metadata": {},
   "outputs": [],
   "source": [
    "import numpy as np\n",
    "import pickle as pickle\n",
    "import cvxopt\n",
    "from active_set import quadratic_problem"
   ]
  },
  {
   "cell_type": "markdown",
   "id": "17c926d0-8dda-4814-a4d9-d44f4dfdd193",
   "metadata": {
    "tags": []
   },
   "source": [
    "### Get Quadratic Problem"
   ]
  },
  {
   "cell_type": "code",
   "execution_count": 98,
   "id": "72aa6cb7-14cb-4f13-ae9f-c0cc08b126c0",
   "metadata": {},
   "outputs": [],
   "source": [
    "EXAMPLE_NUM = 6"
   ]
  },
  {
   "cell_type": "code",
   "execution_count": 99,
   "id": "0c38421d-eaf0-4b56-a17a-f1e47c98ed07",
   "metadata": {},
   "outputs": [],
   "source": [
    "with open(f\"Data/problem{EXAMPLE_NUM}.pickle\", \"rb\") as f:\n",
    "    E, Q_diag, q, b, u, solution = pickle.load(f)\n",
    "Q = np.diag(Q_diag)\n",
    "E = E.toarray()\n",
    "E, b = E[:-1], b[:-1]              # linear independence\n",
    "u = np.nan_to_num(u, posinf=1e6)   # np.inf doesn't work with cvxopt"
   ]
  },
  {
   "cell_type": "code",
   "execution_count": 100,
   "id": "4d3e5caf-6aa3-42d7-8b41-a889bd27fd0f",
   "metadata": {},
   "outputs": [
    {
     "data": {
      "text/plain": [
       "(array([[-1., -1., -1., ...,  0.,  0.,  0.],\n",
       "        [ 0.,  0.,  0., ...,  0.,  0.,  0.],\n",
       "        [ 0.,  0.,  0., ...,  0.,  0.,  0.],\n",
       "        ...,\n",
       "        [ 0.,  0.,  0., ...,  0.,  0.,  0.],\n",
       "        [ 0.,  0.,  0., ...,  0.,  0.,  0.],\n",
       "        [ 0.,  0.,  0., ..., -1.,  0.,  0.]]),\n",
       " array([1., 1., 1., 4., 1., 1., 1., 1., 1., 1., 1., 1., 1., 1., 1., 1., 1.,\n",
       "        1., 1., 1., 1., 1., 1., 3., 1., 1., 1., 1., 1., 1., 1., 1., 1., 1.,\n",
       "        1., 1., 1., 1., 3., 1., 1., 1., 1., 1., 1., 1., 1., 1., 1., 1., 1.,\n",
       "        1., 3., 1., 1., 1., 1., 1., 3., 1., 1., 1., 1., 1., 1., 1., 1., 1.,\n",
       "        1., 4., 1., 1., 1., 1., 1., 3., 1., 1., 1., 1., 3., 1., 4., 1., 1.,\n",
       "        1., 1., 3., 1., 1., 1., 1., 4., 1., 1., 1., 1., 1., 1., 1., 1., 1.,\n",
       "        1., 1., 1., 4., 1., 1.]),\n",
       " array([1.e+05, 1.e+05, 1.e+05, 3.e+00, 1.e+05, 1.e+05, 1.e+05, 1.e+05,\n",
       "        1.e+05, 1.e+05, 1.e+05, 1.e+05, 1.e+05, 1.e+05, 1.e+05, 1.e+05,\n",
       "        1.e+05, 1.e+05, 1.e+05, 1.e+05, 1.e+05, 1.e+05, 1.e+05, 2.e+00,\n",
       "        1.e+05, 1.e+05, 1.e+05, 1.e+05, 1.e+05, 1.e+05, 1.e+05, 1.e+05,\n",
       "        1.e+05, 1.e+05, 1.e+05, 1.e+05, 1.e+05, 1.e+05, 2.e+00, 1.e+05,\n",
       "        1.e+05, 1.e+05, 1.e+05, 1.e+05, 1.e+05, 1.e+05, 1.e+05, 1.e+05,\n",
       "        1.e+05, 1.e+05, 1.e+05, 1.e+05, 2.e+00, 1.e+05, 1.e+05, 1.e+05,\n",
       "        1.e+05, 1.e+05, 2.e+00, 1.e+05, 1.e+05, 1.e+05, 1.e+05, 1.e+05,\n",
       "        1.e+05, 1.e+05, 1.e+05, 1.e+05, 1.e+05, 3.e+00, 1.e+05, 1.e+05,\n",
       "        1.e+05, 1.e+05, 1.e+05, 2.e+00, 1.e+05, 1.e+05, 1.e+05, 1.e+05,\n",
       "        2.e+00, 1.e+05, 3.e+00, 1.e+05, 1.e+05, 1.e+05, 1.e+05, 2.e+00,\n",
       "        1.e+05, 1.e+05, 1.e+05, 1.e+05, 3.e+00, 1.e+05, 1.e+05, 1.e+05,\n",
       "        1.e+05, 1.e+05, 1.e+05, 1.e+05, 1.e+05, 1.e+05, 1.e+05, 1.e+05,\n",
       "        1.e+05, 3.e+00, 1.e+05, 1.e+05]),\n",
       " array([-5.,  0., -5.,  5.,  0.,  0.,  0.,  0.,  0.,  0.,  5.,  0.,  0.,\n",
       "         0.,  0.,  0.,  0.,  0.,  0.]),\n",
       " array([4., 4., 4., 5., 4., 4., 4., 4., 4., 4., 4., 4., 4., 4., 4., 4., 4.,\n",
       "        4., 4., 4., 4., 4., 4., 6., 4., 4., 4., 4., 4., 4., 4., 4., 4., 4.,\n",
       "        4., 4., 4., 4., 6., 4., 4., 4., 4., 4., 4., 4., 4., 4., 4., 4., 4.,\n",
       "        4., 6., 4., 4., 4., 4., 4., 6., 4., 4., 4., 4., 4., 4., 4., 4., 4.,\n",
       "        4., 5., 4., 4., 4., 4., 4., 6., 4., 4., 4., 4., 6., 4., 5., 4., 4.,\n",
       "        4., 4., 6., 4., 4., 4., 4., 5., 4., 4., 4., 4., 4., 4., 4., 4., 4.,\n",
       "        4., 4., 4., 5., 4., 4.]),\n",
       " array([0., 0., 0., 5., 0., 0., 0., 0., 0., 0., 0., 0., 0., 0., 0., 0., 0.,\n",
       "        0., 0., 0., 0., 0., 0., 5., 0., 0., 0., 0., 0., 0., 0., 0., 0., 0.,\n",
       "        0., 0., 0., 0., 5., 0., 0., 0., 0., 0., 0., 0., 0., 0., 0., 0., 0.,\n",
       "        0., 5., 0., 0., 0., 0., 0., 5., 0., 0., 0., 0., 0., 0., 0., 0., 0.,\n",
       "        0., 5., 0., 0., 0., 0., 0., 5., 0., 0., 0., 0., 5., 0., 5., 0., 0.,\n",
       "        0., 0., 5., 0., 0., 0., 0., 5., 0., 0., 0., 0., 0., 0., 0., 0., 0.,\n",
       "        0., 0., 0., 5., 0., 0.]))"
      ]
     },
     "execution_count": 100,
     "metadata": {},
     "output_type": "execute_result"
    }
   ],
   "source": [
    "E, Q_diag, q, b, u, solution"
   ]
  },
  {
   "cell_type": "code",
   "execution_count": 101,
   "id": "a5a3d8cd-fab1-4519-a48e-8306ef3359a9",
   "metadata": {},
   "outputs": [
    {
     "name": "stdout",
     "output_type": "stream",
     "text": [
      "#nodes:20, #edges:108\n"
     ]
    }
   ],
   "source": [
    "n, m = E.shape\n",
    "print(f\"#nodes:{n+1}, #edges:{m}\")"
   ]
  },
  {
   "cell_type": "markdown",
   "id": "67f7f34d-ca23-4a5f-99b6-bc4de495e954",
   "metadata": {},
   "source": [
    "### Init and solve with cvxopt"
   ]
  },
  {
   "cell_type": "code",
   "execution_count": 102,
   "id": "7f622b82-6521-4af1-be76-2a3893100ab2",
   "metadata": {},
   "outputs": [
    {
     "name": "stdout",
     "output_type": "stream",
     "text": [
      "     pcost       dcost       gap    pres   dres\n",
      " 0: -1.5032e+11 -5.0328e+10  3e+11  1e+04  8e-17\n",
      " 1: -1.7781e+10 -8.7781e+08  7e+10  2e+03  5e-13\n",
      " 2: -1.4053e+08 -1.3746e+07  3e+09  9e+01  2e-14\n",
      " 3:  2.4666e+06 -1.3071e+07  5e+07  9e-01  3e-16\n",
      " 4:  1.5036e+06 -3.5608e+06  8e+06  9e-02  2e-16\n",
      " 5:  8.2600e+05 -1.5025e+06  3e+06  4e-02  2e-16\n",
      " 6:  1.8135e+05 -3.6546e+05  7e+05  6e-03  2e-16\n",
      " 7:  4.5840e+04 -6.9566e+04  1e+05  1e-03  2e-16\n",
      " 8:  1.6588e+03  3.9909e+02  2e+03  1e-05  2e-16\n",
      " 9:  1.1749e+03  1.1623e+03  2e+01  1e-07  2e-16\n",
      "10:  1.1700e+03  1.1699e+03  2e-01  1e-09  2e-16\n",
      "11:  1.1700e+03  1.1700e+03  2e-03  1e-11  2e-16\n",
      "12:  1.1700e+03  1.1700e+03  2e-05  1e-13  2e-16\n",
      "Optimal solution found.\n"
     ]
    }
   ],
   "source": [
    "P_cvxopt = cvxopt.matrix(2*Q)\n",
    "p_cvxopt = cvxopt.matrix(q)\n",
    "# x >= 0  <>  G = -I,  h = 0\n",
    "# x <= u  <>  G =  I,  h = u\n",
    "G_cvxopt = cvxopt.matrix(np.block([\n",
    "    [-np.eye(m)], \n",
    "    [np.eye(m)]\n",
    "]))\n",
    "h_cvxopt = cvxopt.matrix(np.concatenate((np.zeros(m), u)))\n",
    "# Ex = b\n",
    "A_cvxopt = cvxopt.matrix(E)\n",
    "b_cvxopt = cvxopt.matrix(b)\n",
    "\n",
    "sol = cvxopt.solvers.qp(P_cvxopt, p_cvxopt, # cost\n",
    "                        G_cvxopt, h_cvxopt, # ineq. constraints\n",
    "                        A_cvxopt, b_cvxopt) # eq. constraints"
   ]
  },
  {
   "cell_type": "code",
   "execution_count": 103,
   "id": "69dc603d-02f7-4998-9930-d5cb2580b8d7",
   "metadata": {},
   "outputs": [
    {
     "data": {
      "text/plain": [
       "657.5"
      ]
     },
     "execution_count": 103,
     "metadata": {},
     "output_type": "execute_result"
    }
   ],
   "source": [
    "1/2* solution @ Q @ solution + solution @ q"
   ]
  },
  {
   "cell_type": "code",
   "execution_count": 104,
   "id": "34ee5b24-9091-4265-9e18-5432c907fa76",
   "metadata": {},
   "outputs": [
    {
     "data": {
      "text/plain": [
       "657.5000048894047"
      ]
     },
     "execution_count": 104,
     "metadata": {},
     "output_type": "execute_result"
    }
   ],
   "source": [
    "assert(sol[\"status\"] == 'optimal')\n",
    "sol_cvxopt = np.array(sol[\"x\"]).reshape(m)\n",
    "1/2* sol_cvxopt @ Q @ sol_cvxopt + sol_cvxopt @ q"
   ]
  },
  {
   "cell_type": "code",
   "execution_count": 105,
   "id": "b9429846-d80e-4b04-9ad0-1e33a5a035a7",
   "metadata": {},
   "outputs": [
    {
     "data": {
      "text/plain": [
       "3.1734614935885475e-12"
      ]
     },
     "execution_count": 105,
     "metadata": {},
     "output_type": "execute_result"
    }
   ],
   "source": [
    "np.max(sol_cvxopt - solution)"
   ]
  },
  {
   "cell_type": "markdown",
   "id": "9501f0f6-0842-4e87-abc7-1cb39658b2c1",
   "metadata": {},
   "source": [
    "### Init and solve with our method \n",
    "(only works on problem 1)"
   ]
  },
  {
   "cell_type": "code",
   "execution_count": 106,
   "id": "f59aef9a-991a-4552-a23a-a0ea0bae6116",
   "metadata": {},
   "outputs": [
    {
     "name": "stdout",
     "output_type": "stream",
     "text": [
      "B:\n",
      "[False False False False False False False False False False False False\n",
      " False False False False False False False False False False False False\n",
      " False False False False False False False False False False False False\n",
      " False False False False False False False False False False False False\n",
      " False False False False False False False False False False False False\n",
      " False False False False False False False False False False False False\n",
      " False False False False False False False False False False False False\n",
      " False False False False False False False False False False False False\n",
      " False False False False False False False False False False False False\n",
      "  True  True  True  True  True  True  True  True  True  True  True  True\n",
      "  True  True  True  True  True  True  True]\n",
      "N:\n",
      "[ True  True  True  True  True  True  True  True  True  True  True  True\n",
      "  True  True  True  True  True  True  True  True  True  True  True  True\n",
      "  True  True  True  True  True  True  True  True  True  True  True  True\n",
      "  True  True  True  True  True  True  True  True  True  True  True  True\n",
      "  True  True  True  True  True  True  True  True  True  True  True  True\n",
      "  True  True  True  True  True  True  True  True  True  True  True  True\n",
      "  True  True  True  True  True  True  True  True  True  True  True  True\n",
      "  True  True  True  True  True  True  True  True  True  True  True  True\n",
      "  True  True  True  True  True  True  True  True  True  True  True  True\n",
      " False False False False False False False False False False False False\n",
      " False False False False False False False]\n",
      "0.0\n",
      "0.0\n",
      "0.0\n",
      "0.0\n",
      "0.0\n",
      "0.0\n",
      "0.0\n",
      "0.0\n",
      "0.0\n",
      "0.0\n",
      "0.0\n",
      "[111]\n",
      "[108]\n",
      "min_mask: [False False False False False False False False False False False False\n",
      " False False  True False False False False False False False False False\n",
      " False False False False False False False False False False False False\n",
      " False False False False False False False  True False False False False\n",
      " False False False False False False False False False False False  True\n",
      " False False False False False False  True False False False False False\n",
      " False False False False False False  True False False False False False\n",
      " False False False False False False False False False False False False\n",
      " False False False False False False False False False False False False\n",
      " False False False False False False False False False False False False\n",
      " False False False False False False False]\n",
      "z_u: [0. 0. 0. 0. 0.] r_u: [0. 0. 0. 0. 0.]\n",
      "min_mask: [False False False False False False False False False False False False\n",
      " False False False False False False False False False False False False\n",
      " False False False False False False False False False False False False\n",
      " False False False False False False False False False False False False\n",
      " False False False False False False False False False False False False\n",
      " False False False False False False False False False False False False\n",
      " False False False False False False False False False False False False\n",
      " False False False False False False False False False False False False\n",
      " False False False False False False False False False False False False\n",
      " False False False False False False False False False False False False\n",
      " False False False False False False False]\n",
      "z_u: [] r_u: []\n",
      "[14]\n",
      "[109]\n",
      "min_mask: [False False False False False False False False False False False False\n",
      " False False False False False False False False False False False False\n",
      "  True False False False False False False  True False False False False\n",
      " False False False False False False False  True False False False False\n",
      " False False False False False False False False False False False  True\n",
      " False False False False False False  True False False False False False\n",
      " False False False False False False  True  True False False False False\n",
      "  True False False False False False False False False False False False\n",
      " False False False False False False False False False False False False\n",
      " False False False False False False False False False False False False\n",
      " False False False False False False False]\n",
      "z_u: [0. 0. 0. 0. 0. 0. 0. 0.] r_u: [0. 0. 0. 0. 0. 0. 0. 0.]\n",
      "min_mask: [False False False False False False False False False False False False\n",
      " False False False False False False False False False False False False\n",
      " False False False False False False False False False False False False\n",
      " False False False False False False False False False False False False\n",
      " False False False False False False False False False False False False\n",
      " False False False False False False False False False False False False\n",
      " False False False False False False False False False False False False\n",
      " False False False False False False False False False False False False\n",
      " False False False False False False False False False False False False\n",
      " False False False False False False False False False False False False\n",
      " False False False False False False False]\n",
      "z_u: [] r_u: []\n",
      "[14]\n",
      "[110]\n",
      "min_mask: [False False False False False False False False False False False False\n",
      " False False False False False False False False False False False False\n",
      " False False False False False False False  True False False False False\n",
      " False False False False False False False  True False False False  True\n",
      " False False False False False False False False False False False  True\n",
      " False False False False False  True  True False False False  True False\n",
      " False False False False False False  True  True False False False False\n",
      "  True False False False False False False False False False False False\n",
      " False False False False False False False False False False False False\n",
      " False False False False False False False False False False False False\n",
      " False False False False False False False]\n",
      "z_u: [0. 0. 0. 0. 0. 0. 0. 0. 0. 0.] r_u: [0. 0. 0. 0. 0. 0. 0. 0. 0. 0.]\n",
      "min_mask: [False False False False False False False False False False False False\n",
      " False False False False False False False False False False False False\n",
      " False False False False False False False False False False False False\n",
      " False False False False False False False False False False False False\n",
      " False False False False False False False False False False False False\n",
      " False False False False False False False False False False False False\n",
      " False False False False False False False False False False False False\n",
      " False False False False False False False False False False False False\n",
      " False False False False False False False False False False False False\n",
      " False False False False False False False False False False False False\n",
      " False False False False False False False]\n",
      "z_u: [] r_u: []\n",
      "[31]\n",
      "[111]\n",
      "min_mask: [ True  True  True  True  True  True  True  True  True  True  True  True\n",
      " False  True False  True  True  True  True  True  True  True  True  True\n",
      " False  True  True  True False False False False False False False False\n",
      " False False False False False False False False False False False False\n",
      " False False False False False False False False False False False False\n",
      " False False False False False False False False False False False False\n",
      " False False False False False False False False False False False False\n",
      " False False False False False False False False False False False False\n",
      " False False False False False False False False False False False False\n",
      "  True  True  True False False False False False False False False False\n",
      " False False False False False False False]\n",
      "z_l: [ 9.996e+04  9.996e+04  9.996e+04 -3.700e+01  9.996e+04  9.996e+04\n",
      "  9.996e+04  9.996e+04  9.996e+04  9.997e+04  9.997e+04  9.997e+04\n",
      "  9.997e+04  9.997e+04  9.997e+04  9.996e+04  9.996e+04  9.996e+04\n",
      "  9.996e+04  9.996e+04  9.996e+04 -3.800e+01  9.996e+04  9.996e+04\n",
      "  9.996e+04 -4.000e+01 -3.000e+01 -4.000e+01] r_l: [0. 0. 0. 0. 0. 0. 0. 0. 0. 0. 0. 0. 0. 0. 0. 0. 0. 0. 0. 0. 0. 0. 0. 0.\n",
      " 0. 0. 0. 0.]\n",
      "min_mask: [False False False False False False False False False  True  True  True\n",
      " False  True False  True  True  True  True  True  True  True  True  True\n",
      " False  True  True  True False False False False False False False False\n",
      " False False False False False False False False False False False False\n",
      " False False False False False False False False False False False False\n",
      " False False False False False False False False False False False False\n",
      " False False False False False False False False False False False False\n",
      " False False False False False False False False False False False False\n",
      " False False False False False False False False False False False False\n",
      " False  True  True False False False False False False False False False\n",
      " False False False False False False False]\n",
      "z_l: [1.0001e+05 1.0001e+05 1.0001e+05 1.0001e+05 1.0001e+05 1.0001e+05\n",
      " 1.0000e+05 1.0000e+05 1.0000e+05 1.0000e+05 1.0000e+05 1.0000e+05\n",
      " 2.0000e+00 1.0000e+05 1.0000e+05 1.0000e+05 1.0000e+01 0.0000e+00] r_l: [0. 0. 0. 0. 0. 0. 0. 0. 0. 0. 0. 0. 0. 0. 0. 0. 0. 0.]\n",
      "oh no\n"
     ]
    }
   ],
   "source": [
    "class min_flow(quadratic_problem):\n",
    "    def __init__(self, Q, E, b, q, l, u, verbose=False):\n",
    "        n, m = E.shape\n",
    "        M = np.zeros((n,n))\n",
    "        super().__init__(E, b, q, 2*Q, M, l=l, u=u, verbose=verbose)\n",
    "\n",
    "qp = min_flow(Q, E, b, q, np.zeros(m), u, verbose=False)\n",
    "try:\n",
    "    qp.solve()\n",
    "except:\n",
    "    print(\"oh no\")"
   ]
  },
  {
   "cell_type": "code",
   "execution_count": 86,
   "id": "0cb9d1ad-5921-4d2e-b93e-16289b36d547",
   "metadata": {},
   "outputs": [
    {
     "data": {
      "text/plain": [
       "array([ 0.,  0.,  0.,  0.,  0.,  0.,  0.,  0., -0., -0., -0., -0., -0.,\n",
       "       -0.])"
      ]
     },
     "execution_count": 86,
     "metadata": {},
     "output_type": "execute_result"
    }
   ],
   "source": [
    "qp.x"
   ]
  },
  {
   "cell_type": "code",
   "execution_count": 87,
   "id": "7758cc56-ae96-4861-84a1-d0c1912e09e2",
   "metadata": {},
   "outputs": [
    {
     "name": "stdout",
     "output_type": "stream",
     "text": [
      "0.0\n"
     ]
    },
    {
     "ename": "AssertionError",
     "evalue": "[ True  True  True  True  True  True  True  True False  True  True  True\n  True  True]",
     "output_type": "error",
     "traceback": [
      "\u001b[0;31m---------------------------------------------------------------------------\u001b[0m",
      "\u001b[0;31mAssertionError\u001b[0m                            Traceback (most recent call last)",
      "\u001b[0;32m/tmp/ipykernel_4433/1991051754.py\u001b[0m in \u001b[0;36m<module>\u001b[0;34m\u001b[0m\n\u001b[0;32m----> 1\u001b[0;31m \u001b[0mqp\u001b[0m\u001b[0;34m.\u001b[0m\u001b[0mget_solution\u001b[0m\u001b[0;34m(\u001b[0m\u001b[0;34m)\u001b[0m\u001b[0;34m\u001b[0m\u001b[0;34m\u001b[0m\u001b[0m\n\u001b[0m",
      "\u001b[0;32m/mnt/c/Users/David/Desktop/CM/Project/CM_Project/active_set.py\u001b[0m in \u001b[0;36mget_solution\u001b[0;34m(self)\u001b[0m\n\u001b[1;32m    293\u001b[0m         \u001b[0;32massert\u001b[0m \u001b[0mnp\u001b[0m\u001b[0;34m.\u001b[0m\u001b[0mallclose\u001b[0m\u001b[0;34m(\u001b[0m\u001b[0mnorm_2\u001b[0m\u001b[0;34m(\u001b[0m\u001b[0mconstraint_AMb\u001b[0m\u001b[0;34m)\u001b[0m\u001b[0;34m,\u001b[0m \u001b[0;36m0\u001b[0m\u001b[0;34m,\u001b[0m \u001b[0matol\u001b[0m\u001b[0;34m=\u001b[0m\u001b[0mself\u001b[0m\u001b[0;34m.\u001b[0m\u001b[0mtol\u001b[0m\u001b[0;34m)\u001b[0m\u001b[0;34m,\u001b[0m \u001b[0mconstraint_AMb\u001b[0m\u001b[0;34m\u001b[0m\u001b[0;34m\u001b[0m\u001b[0m\n\u001b[1;32m    294\u001b[0m         \u001b[0mconstraint_x\u001b[0m \u001b[0;34m=\u001b[0m \u001b[0;34m(\u001b[0m\u001b[0mself\u001b[0m\u001b[0;34m.\u001b[0m\u001b[0mx\u001b[0m \u001b[0;34m>=\u001b[0m \u001b[0mself\u001b[0m\u001b[0;34m.\u001b[0m\u001b[0ml\u001b[0m\u001b[0;34m-\u001b[0m\u001b[0mself\u001b[0m\u001b[0;34m.\u001b[0m\u001b[0mtol\u001b[0m\u001b[0;34m)\u001b[0m \u001b[0;34m&\u001b[0m \u001b[0;34m(\u001b[0m\u001b[0mself\u001b[0m\u001b[0;34m.\u001b[0m\u001b[0mx\u001b[0m \u001b[0;34m<=\u001b[0m \u001b[0mself\u001b[0m\u001b[0;34m.\u001b[0m\u001b[0mu\u001b[0m\u001b[0;34m+\u001b[0m\u001b[0mself\u001b[0m\u001b[0;34m.\u001b[0m\u001b[0mtol\u001b[0m\u001b[0;34m)\u001b[0m\u001b[0;34m\u001b[0m\u001b[0;34m\u001b[0m\u001b[0m\n\u001b[0;32m--> 295\u001b[0;31m         \u001b[0;32massert\u001b[0m \u001b[0mnp\u001b[0m\u001b[0;34m.\u001b[0m\u001b[0mallclose\u001b[0m\u001b[0;34m(\u001b[0m\u001b[0mconstraint_x\u001b[0m\u001b[0;34m,\u001b[0m \u001b[0;32mTrue\u001b[0m\u001b[0;34m,\u001b[0m \u001b[0matol\u001b[0m\u001b[0;34m=\u001b[0m\u001b[0mself\u001b[0m\u001b[0;34m.\u001b[0m\u001b[0mtol\u001b[0m\u001b[0;34m)\u001b[0m\u001b[0;34m,\u001b[0m \u001b[0mconstraint_x\u001b[0m\u001b[0;34m\u001b[0m\u001b[0;34m\u001b[0m\u001b[0m\n\u001b[0m\u001b[1;32m    296\u001b[0m         \u001b[0msol\u001b[0m \u001b[0;34m=\u001b[0m \u001b[0mself\u001b[0m\u001b[0;34m.\u001b[0m\u001b[0mc\u001b[0m \u001b[0;34m@\u001b[0m \u001b[0mself\u001b[0m\u001b[0;34m.\u001b[0m\u001b[0mx\u001b[0m \u001b[0;34m+\u001b[0m \u001b[0;36m0.5\u001b[0m\u001b[0;34m*\u001b[0m \u001b[0mself\u001b[0m\u001b[0;34m.\u001b[0m\u001b[0mx\u001b[0m\u001b[0;34m.\u001b[0m\u001b[0mT\u001b[0m \u001b[0;34m@\u001b[0m \u001b[0mself\u001b[0m\u001b[0;34m.\u001b[0m\u001b[0mH\u001b[0m \u001b[0;34m@\u001b[0m \u001b[0mself\u001b[0m\u001b[0;34m.\u001b[0m\u001b[0mx\u001b[0m \u001b[0;34m+\u001b[0m \u001b[0;36m0.5\u001b[0m \u001b[0;34m*\u001b[0m \u001b[0mself\u001b[0m\u001b[0;34m.\u001b[0m\u001b[0my\u001b[0m\u001b[0;34m.\u001b[0m\u001b[0mT\u001b[0m \u001b[0;34m@\u001b[0m \u001b[0mself\u001b[0m\u001b[0;34m.\u001b[0m\u001b[0mM\u001b[0m \u001b[0;34m@\u001b[0m \u001b[0mself\u001b[0m\u001b[0;34m.\u001b[0m\u001b[0my\u001b[0m\u001b[0;34m\u001b[0m\u001b[0;34m\u001b[0m\u001b[0m\n\u001b[1;32m    297\u001b[0m         \u001b[0mself\u001b[0m\u001b[0;34m.\u001b[0m\u001b[0mlogger\u001b[0m\u001b[0;34m.\u001b[0m\u001b[0minfo\u001b[0m\u001b[0;34m(\u001b[0m\u001b[0;34mf\"The solution of the system is: {sol}\"\u001b[0m\u001b[0;34m)\u001b[0m\u001b[0;34m\u001b[0m\u001b[0;34m\u001b[0m\u001b[0m\n",
      "\u001b[0;31mAssertionError\u001b[0m: [ True  True  True  True  True  True  True  True False  True  True  True\n  True  True]"
     ]
    }
   ],
   "source": [
    "qp.get_solution()"
   ]
  },
  {
   "cell_type": "code",
   "execution_count": null,
   "id": "8a65ab51-1592-4f31-9c9e-094a2a7c16ec",
   "metadata": {},
   "outputs": [],
   "source": []
  }
 ],
 "metadata": {
  "kernelspec": {
   "display_name": "Python 3 (ipykernel)",
   "language": "python",
   "name": "python3"
  },
  "language_info": {
   "codemirror_mode": {
    "name": "ipython",
    "version": 3
   },
   "file_extension": ".py",
   "mimetype": "text/x-python",
   "name": "python",
   "nbconvert_exporter": "python",
   "pygments_lexer": "ipython3",
   "version": "3.9.7"
  }
 },
 "nbformat": 4,
 "nbformat_minor": 5
}
