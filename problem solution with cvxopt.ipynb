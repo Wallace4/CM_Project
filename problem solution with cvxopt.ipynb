{
 "cells": [
  {
   "cell_type": "code",
   "execution_count": 5,
   "id": "344903cb-2ae2-4f49-9047-52ac9dcb4fc7",
   "metadata": {},
   "outputs": [],
   "source": [
    "import numpy as np\n",
    "import pickle\n",
    "import cvxopt\n",
    "from active_set import quadratic_problem"
   ]
  },
  {
   "cell_type": "markdown",
   "id": "17c926d0-8dda-4814-a4d9-d44f4dfdd193",
   "metadata": {
    "tags": []
   },
   "source": [
    "### Get Quadratic Problem"
   ]
  },
  {
   "cell_type": "code",
   "execution_count": 18,
   "id": "72aa6cb7-14cb-4f13-ae9f-c0cc08b126c0",
   "metadata": {},
   "outputs": [],
   "source": [
    "EXAMPLE_NUM = 6"
   ]
  },
  {
   "cell_type": "code",
   "execution_count": 19,
   "id": "0c38421d-eaf0-4b56-a17a-f1e47c98ed07",
   "metadata": {},
   "outputs": [
    {
     "name": "stderr",
     "output_type": "stream",
     "text": [
      "C:\\Users\\Wallace\\AppData\\Local\\Temp\\ipykernel_16916\\1344267124.py:2: DeprecationWarning: Please use `csc_matrix` from the `scipy.sparse` namespace, the `scipy.sparse.csc` namespace is deprecated.\n",
      "  E, Q_diag, q, b, u, solution = pickle.load(f)\n"
     ]
    }
   ],
   "source": [
    "with open(f\"Data/problem{EXAMPLE_NUM}.pickle\", \"rb\") as f:\n",
    "    E, Q_diag, q, b, u, solution = pickle.load(f)\n",
    "Q = np.diag(Q_diag)\n",
    "E = E.toarray()\n",
    "E, b = E[:-1], b[:-1]              # linear independence\n",
    "u = np.nan_to_num(u, posinf=1e6)   # np.inf doesn't work with cvxopt"
   ]
  },
  {
   "cell_type": "code",
   "execution_count": 20,
   "id": "4d3e5caf-6aa3-42d7-8b41-a889bd27fd0f",
   "metadata": {},
   "outputs": [
    {
     "data": {
      "text/plain": [
       "(array([[-1., -1., -1., ...,  0.,  0.,  0.],\n",
       "        [ 0.,  0.,  0., ...,  0.,  0.,  0.],\n",
       "        [ 0.,  0.,  0., ...,  0.,  0.,  0.],\n",
       "        ...,\n",
       "        [ 0.,  0.,  0., ...,  0.,  0.,  0.],\n",
       "        [ 0.,  0.,  0., ...,  0.,  0.,  0.],\n",
       "        [ 0.,  0.,  0., ..., -1.,  0.,  0.]]),\n",
       " array([1., 1., 1., 4., 1., 1., 1., 1., 1., 1., 1., 1., 1., 1., 1., 1., 1.,\n",
       "        1., 1., 1., 1., 1., 1., 3., 1., 1., 1., 1., 1., 1., 1., 1., 1., 1.,\n",
       "        1., 1., 1., 1., 3., 1., 1., 1., 1., 1., 1., 1., 1., 1., 1., 1., 1.,\n",
       "        1., 3., 1., 1., 1., 1., 1., 3., 1., 1., 1., 1., 1., 1., 1., 1., 1.,\n",
       "        1., 4., 1., 1., 1., 1., 1., 3., 1., 1., 1., 1., 3., 1., 4., 1., 1.,\n",
       "        1., 1., 3., 1., 1., 1., 1., 4., 1., 1., 1., 1., 1., 1., 1., 1., 1.,\n",
       "        1., 1., 1., 4., 1., 1.]),\n",
       " array([1.e+05, 1.e+05, 1.e+05, 3.e+00, 1.e+05, 1.e+05, 1.e+05, 1.e+05,\n",
       "        1.e+05, 1.e+05, 1.e+05, 1.e+05, 1.e+05, 1.e+05, 1.e+05, 1.e+05,\n",
       "        1.e+05, 1.e+05, 1.e+05, 1.e+05, 1.e+05, 1.e+05, 1.e+05, 2.e+00,\n",
       "        1.e+05, 1.e+05, 1.e+05, 1.e+05, 1.e+05, 1.e+05, 1.e+05, 1.e+05,\n",
       "        1.e+05, 1.e+05, 1.e+05, 1.e+05, 1.e+05, 1.e+05, 2.e+00, 1.e+05,\n",
       "        1.e+05, 1.e+05, 1.e+05, 1.e+05, 1.e+05, 1.e+05, 1.e+05, 1.e+05,\n",
       "        1.e+05, 1.e+05, 1.e+05, 1.e+05, 2.e+00, 1.e+05, 1.e+05, 1.e+05,\n",
       "        1.e+05, 1.e+05, 2.e+00, 1.e+05, 1.e+05, 1.e+05, 1.e+05, 1.e+05,\n",
       "        1.e+05, 1.e+05, 1.e+05, 1.e+05, 1.e+05, 3.e+00, 1.e+05, 1.e+05,\n",
       "        1.e+05, 1.e+05, 1.e+05, 2.e+00, 1.e+05, 1.e+05, 1.e+05, 1.e+05,\n",
       "        2.e+00, 1.e+05, 3.e+00, 1.e+05, 1.e+05, 1.e+05, 1.e+05, 2.e+00,\n",
       "        1.e+05, 1.e+05, 1.e+05, 1.e+05, 3.e+00, 1.e+05, 1.e+05, 1.e+05,\n",
       "        1.e+05, 1.e+05, 1.e+05, 1.e+05, 1.e+05, 1.e+05, 1.e+05, 1.e+05,\n",
       "        1.e+05, 3.e+00, 1.e+05, 1.e+05]),\n",
       " array([-5.,  0., -5.,  5.,  0.,  0.,  0.,  0.,  0.,  0.,  5.,  0.,  0.,\n",
       "         0.,  0.,  0.,  0.,  0.,  0.]),\n",
       " array([4., 4., 4., 5., 4., 4., 4., 4., 4., 4., 4., 4., 4., 4., 4., 4., 4.,\n",
       "        4., 4., 4., 4., 4., 4., 6., 4., 4., 4., 4., 4., 4., 4., 4., 4., 4.,\n",
       "        4., 4., 4., 4., 6., 4., 4., 4., 4., 4., 4., 4., 4., 4., 4., 4., 4.,\n",
       "        4., 6., 4., 4., 4., 4., 4., 6., 4., 4., 4., 4., 4., 4., 4., 4., 4.,\n",
       "        4., 5., 4., 4., 4., 4., 4., 6., 4., 4., 4., 4., 6., 4., 5., 4., 4.,\n",
       "        4., 4., 6., 4., 4., 4., 4., 5., 4., 4., 4., 4., 4., 4., 4., 4., 4.,\n",
       "        4., 4., 4., 5., 4., 4.]),\n",
       " array([0., 0., 0., 5., 0., 0., 0., 0., 0., 0., 0., 0., 0., 0., 0., 0., 0.,\n",
       "        0., 0., 0., 0., 0., 0., 5., 0., 0., 0., 0., 0., 0., 0., 0., 0., 0.,\n",
       "        0., 0., 0., 0., 5., 0., 0., 0., 0., 0., 0., 0., 0., 0., 0., 0., 0.,\n",
       "        0., 5., 0., 0., 0., 0., 0., 5., 0., 0., 0., 0., 0., 0., 0., 0., 0.,\n",
       "        0., 5., 0., 0., 0., 0., 0., 5., 0., 0., 0., 0., 5., 0., 5., 0., 0.,\n",
       "        0., 0., 5., 0., 0., 0., 0., 5., 0., 0., 0., 0., 0., 0., 0., 0., 0.,\n",
       "        0., 0., 0., 5., 0., 0.]))"
      ]
     },
     "execution_count": 20,
     "metadata": {},
     "output_type": "execute_result"
    }
   ],
   "source": [
    "E, Q_diag, q, b, u, solution"
   ]
  },
  {
   "cell_type": "code",
   "execution_count": 21,
   "id": "a5a3d8cd-fab1-4519-a48e-8306ef3359a9",
   "metadata": {},
   "outputs": [
    {
     "name": "stdout",
     "output_type": "stream",
     "text": [
      "#nodes:20, #edges:108\n"
     ]
    }
   ],
   "source": [
    "n, m = E.shape\n",
    "print(f\"#nodes:{n+1}, #edges:{m}\")"
   ]
  },
  {
   "cell_type": "markdown",
   "id": "67f7f34d-ca23-4a5f-99b6-bc4de495e954",
   "metadata": {},
   "source": [
    "### Init and solve with cvxopt"
   ]
  },
  {
   "cell_type": "code",
   "execution_count": 22,
   "id": "7f622b82-6521-4af1-be76-2a3893100ab2",
   "metadata": {},
   "outputs": [
    {
     "name": "stdout",
     "output_type": "stream",
     "text": [
      "     pcost       dcost       gap    pres   dres\n",
      " 0: -1.5032e+11 -5.0328e+10  3e+11  1e+04  1e-16\n",
      " 1: -1.7781e+10 -8.7781e+08  7e+10  2e+03  3e-13\n",
      " 2: -1.4053e+08 -1.3746e+07  3e+09  9e+01  1e-14\n",
      " 3:  2.4666e+06 -1.3071e+07  5e+07  9e-01  3e-16\n",
      " 4:  1.5036e+06 -3.5608e+06  8e+06  9e-02  2e-16\n",
      " 5:  8.2600e+05 -1.5025e+06  3e+06  4e-02  3e-16\n",
      " 6:  1.8135e+05 -3.6546e+05  7e+05  6e-03  3e-16\n",
      " 7:  4.5840e+04 -6.9566e+04  1e+05  1e-03  2e-16\n",
      " 8:  1.6588e+03  3.9909e+02  2e+03  1e-05  2e-16\n",
      " 9:  1.1749e+03  1.1623e+03  2e+01  1e-07  2e-16\n",
      "10:  1.1700e+03  1.1699e+03  2e-01  1e-09  2e-16\n",
      "11:  1.1700e+03  1.1700e+03  2e-03  1e-11  2e-16\n",
      "12:  1.1700e+03  1.1700e+03  2e-05  1e-13  2e-16\n",
      "Optimal solution found.\n"
     ]
    }
   ],
   "source": [
    "P_cvxopt = cvxopt.matrix(2*Q)\n",
    "p_cvxopt = cvxopt.matrix(q)\n",
    "# x >= 0  <>  G = -I,  h = 0\n",
    "# x <= u  <>  G =  I,  h = u\n",
    "G_cvxopt = cvxopt.matrix(np.block([\n",
    "    [-np.eye(m)], \n",
    "    [np.eye(m)]\n",
    "]))\n",
    "h_cvxopt = cvxopt.matrix(np.concatenate((np.zeros(m), u)))\n",
    "# Ex = b\n",
    "A_cvxopt = cvxopt.matrix(E)\n",
    "b_cvxopt = cvxopt.matrix(b)\n",
    "\n",
    "sol = cvxopt.solvers.qp(P_cvxopt, p_cvxopt, # cost\n",
    "                        G_cvxopt, h_cvxopt, # ineq. constraints\n",
    "                        A_cvxopt, b_cvxopt) # eq. constraints"
   ]
  },
  {
   "cell_type": "code",
   "execution_count": 23,
   "id": "69dc603d-02f7-4998-9930-d5cb2580b8d7",
   "metadata": {},
   "outputs": [
    {
     "data": {
      "text/plain": [
       "657.5"
      ]
     },
     "execution_count": 23,
     "metadata": {},
     "output_type": "execute_result"
    }
   ],
   "source": [
    "1/2* solution @ Q @ solution + solution @ q"
   ]
  },
  {
   "cell_type": "code",
   "execution_count": 24,
   "id": "34ee5b24-9091-4265-9e18-5432c907fa76",
   "metadata": {},
   "outputs": [
    {
     "data": {
      "text/plain": [
       "657.5000048893501"
      ]
     },
     "execution_count": 24,
     "metadata": {},
     "output_type": "execute_result"
    }
   ],
   "source": [
    "assert(sol[\"status\"] == 'optimal')\n",
    "sol_cvxopt = np.array(sol[\"x\"]).reshape(m)\n",
    "1/2* sol_cvxopt @ Q @ sol_cvxopt + sol_cvxopt @ q"
   ]
  },
  {
   "cell_type": "code",
   "execution_count": 25,
   "id": "b9429846-d80e-4b04-9ad0-1e33a5a035a7",
   "metadata": {},
   "outputs": [
    {
     "data": {
      "text/plain": [
       "3.1752378504279477e-12"
      ]
     },
     "execution_count": 25,
     "metadata": {},
     "output_type": "execute_result"
    }
   ],
   "source": [
    "np.max(sol_cvxopt - solution)"
   ]
  },
  {
   "cell_type": "markdown",
   "id": "9501f0f6-0842-4e87-abc7-1cb39658b2c1",
   "metadata": {},
   "source": [
    "### Init and solve with our method \n",
    "(only works on problem 1)"
   ]
  },
  {
   "cell_type": "code",
   "execution_count": 26,
   "id": "f59aef9a-991a-4552-a23a-a0ea0bae6116",
   "metadata": {},
   "outputs": [
    {
     "name": "stdout",
     "output_type": "stream",
     "text": [
      "[[-1. -1. -1. ...  0.  0.  0.]\n",
      " [ 0.  0.  0. ...  0.  0.  0.]\n",
      " [ 0.  0.  0. ...  0.  0.  0.]\n",
      " ...\n",
      " [ 0.  0.  0. ...  0.  0.  0.]\n",
      " [ 0.  0.  0. ...  0.  0.  0.]\n",
      " [ 0.  0.  0. ... -1.  0.  0.]]\n",
      "[-1.  0.  0.  0.  0.  0.  0.  0.  0.  0.  0.  0.  0.  1.  0.  0.  0.  0.\n",
      "  0.]\n",
      "[-1.  0.  0.  0.  0.  0.  0.  0.  0.  0.  1.  0.  0.  0.  0.  0.  0.  0.\n",
      "  0.]\n",
      "[-1.  0.  0.  0.  0.  0.  0.  0.  0.  1.  0.  0.  0.  0.  0.  0.  0.  0.\n",
      "  0.]\n",
      "[-1.  0.  0.  0.  0.  0.  0.  0.  0.  0.  0.  1.  0.  0.  0.  0.  0.  0.\n",
      "  0.]\n",
      "[-1.  0.  0.  0.  0.  0.  0.  0.  0.  0.  0.  0.  0.  0.  0.  0.  0.  1.\n",
      "  0.]\n",
      "[-1.  0.  0.  0.  0.  1.  0.  0.  0.  0.  0.  0.  0.  0.  0.  0.  0.  0.\n",
      "  0.]\n",
      "[-1.  0.  0.  0.  0.  0.  1.  0.  0.  0.  0.  0.  0.  0.  0.  0.  0.  0.\n",
      "  0.]\n",
      "[-1.  0.  0.  0.  0.  0.  0.  0.  1.  0.  0.  0.  0.  0.  0.  0.  0.  0.\n",
      "  0.]\n",
      "[-1.  0.  0.  0.  0.  0.  0.  0.  0.  0.  0.  0.  0.  0.  0.  0.  0.  0.\n",
      "  0.]\n",
      "[ 0. -1.  0.  0.  0.  0.  0.  0.  1.  0.  0.  0.  0.  0.  0.  0.  0.  0.\n",
      "  0.]\n",
      "[ 0. -1.  0.  0.  0.  0.  0.  0.  0.  0.  0.  0.  1.  0.  0.  0.  0.  0.\n",
      "  0.]\n",
      "[ 0. -1.  0.  0.  0.  1.  0.  0.  0.  0.  0.  0.  0.  0.  0.  0.  0.  0.\n",
      "  0.]\n",
      "[ 0. -1.  1.  0.  0.  0.  0.  0.  0.  0.  0.  0.  0.  0.  0.  0.  0.  0.\n",
      "  0.]\n",
      "[ 0. -1.  0.  0.  0.  0.  0.  0.  0.  1.  0.  0.  0.  0.  0.  0.  0.  0.\n",
      "  0.]\n",
      "[ 1. -1.  0.  0.  0.  0.  0.  0.  0.  0.  0.  0.  0.  0.  0.  0.  0.  0.\n",
      "  0.]\n",
      "[ 0. -1.  0.  0.  0.  0.  0.  0.  0.  0.  0.  0.  0.  0.  0.  0.  0.  1.\n",
      "  0.]\n",
      "[ 0. -1.  0.  0.  0.  0.  0.  0.  0.  0.  0.  0.  0.  0.  0.  0.  1.  0.\n",
      "  0.]\n",
      "[ 0.  0. -1.  0.  0.  0.  0.  0.  0.  0.  0.  0.  0.  1.  0.  0.  0.  0.\n",
      "  0.]\n",
      "[ 0.  0. -1.  0.  0.  0.  0.  0.  0.  0.  0.  0.  0.  0.  0.  0.  0.  0.\n",
      "  0.]\n",
      "B:\n",
      "[ True  True  True False False False False False False False False False\n",
      " False False False False False False False False False False False False\n",
      " False False False False False False False False False False False False\n",
      " False False False False False False False False False False False False\n",
      " False False False False False False False False False False False False\n",
      " False False False False False False False False False False False False\n",
      " False False False False False False False False False False False False\n",
      " False False False False False False False False False False False False\n",
      " False False False False False False False False False False False False]\n",
      "N:\n",
      "[False False False  True  True  True  True  True  True  True  True  True\n",
      "  True  True  True  True  True  True  True  True  True  True  True  True\n",
      "  True  True  True  True  True  True  True  True  True  True  True  True\n",
      "  True  True  True  True  True  True  True  True  True  True  True  True\n",
      "  True  True  True  True  True  True  True  True  True  True  True  True\n",
      "  True  True  True  True  True  True  True  True  True  True  True  True\n",
      "  True  True  True  True  True  True  True  True  True  True  True  True\n",
      "  True  True  True  True  True  True  True  True  True  True  True  True\n",
      "  True  True  True  True  True  True  True  True  True  True  True  True]\n",
      "nan\n",
      "nan\n"
     ]
    },
    {
     "name": "stderr",
     "output_type": "stream",
     "text": [
      "C:\\Users\\Wallace\\AppData\\Local\\Programs\\Python\\Python39\\lib\\site-packages\\scipy\\sparse\\linalg\\_dsolve\\linsolve.py:144: SparseEfficiencyWarning: spsolve requires A be CSC or CSR matrix format\n",
      "  warn('spsolve requires A be CSC or CSR matrix format',\n",
      "C:\\Users\\Wallace\\AppData\\Local\\Programs\\Python\\Python39\\lib\\site-packages\\scipy\\sparse\\linalg\\_dsolve\\linsolve.py:206: MatrixRankWarning: Matrix is exactly singular\n",
      "  warn(\"Matrix is exactly singular\", MatrixRankWarning)\n"
     ]
    }
   ],
   "source": [
    "class min_flow(quadratic_problem):\n",
    "    def __init__(self, Q, E, b, q, l, u, verbose=False):\n",
    "        n, m = E.shape\n",
    "        M = np.zeros((n,n))\n",
    "        super().__init__(E, b, q, 2*Q, M, l=l, u=u, verbose=verbose)\n",
    "\n",
    "qp = min_flow(Q, E, b, q, np.zeros(m), u, verbose=False)\n",
    "\n",
    "qp.solve()"
   ]
  },
  {
   "cell_type": "code",
   "execution_count": 27,
   "id": "0cb9d1ad-5921-4d2e-b93e-16289b36d547",
   "metadata": {},
   "outputs": [
    {
     "data": {
      "text/plain": [
       "array([nan, nan, nan,  0.,  0.,  0.,  0.,  0.,  0.,  0.,  0.,  0.,  0.,\n",
       "        0.,  0.,  0.,  0.,  0.,  0.,  0.,  0.,  0.,  0.,  0.,  0.,  0.,\n",
       "        0.,  0.,  0.,  0.,  0.,  0.,  0.,  0.,  0.,  0.,  0.,  0.,  0.,\n",
       "        0.,  0.,  0.,  0.,  0.,  0.,  0.,  0.,  0.,  0.,  0.,  0.,  0.,\n",
       "        0.,  0.,  0.,  0.,  0.,  0.,  0.,  0.,  0.,  0.,  0.,  0.,  0.,\n",
       "        0.,  0.,  0.,  0.,  0.,  0.,  0.,  0.,  0.,  0.,  0.,  0.,  0.,\n",
       "        0.,  0.,  0.,  0.,  0.,  0.,  0.,  0.,  0.,  0.,  0.,  0.,  0.,\n",
       "        0.,  0.,  0.,  0.,  0.,  0.,  0.,  0.,  0.,  0.,  0.,  0.,  0.,\n",
       "        0.,  0.,  0.,  0.])"
      ]
     },
     "execution_count": 27,
     "metadata": {},
     "output_type": "execute_result"
    }
   ],
   "source": [
    "qp.x"
   ]
  },
  {
   "cell_type": "code",
   "execution_count": 28,
   "id": "7758cc56-ae96-4861-84a1-d0c1912e09e2",
   "metadata": {},
   "outputs": [
    {
     "name": "stdout",
     "output_type": "stream",
     "text": [
      "nan\n"
     ]
    },
    {
     "ename": "AssertionError",
     "evalue": "[nan nan nan nan nan nan nan nan nan nan nan nan nan nan nan nan nan nan\n nan]",
     "output_type": "error",
     "traceback": [
      "\u001b[1;31m---------------------------------------------------------------------------\u001b[0m",
      "\u001b[1;31mAssertionError\u001b[0m                            Traceback (most recent call last)",
      "Input \u001b[1;32mIn [28]\u001b[0m, in \u001b[0;36m<module>\u001b[1;34m\u001b[0m\n\u001b[1;32m----> 1\u001b[0m \u001b[43mqp\u001b[49m\u001b[38;5;241;43m.\u001b[39;49m\u001b[43mget_solution\u001b[49m\u001b[43m(\u001b[49m\u001b[43m)\u001b[49m\n",
      "File \u001b[1;32me:\\Banane catarifrangenti\\CM_Project\\active_set.py:301\u001b[0m, in \u001b[0;36mquadratic_problem.get_solution\u001b[1;34m(self)\u001b[0m\n\u001b[0;32m    296\u001b[0m \u001b[38;5;124;03m\"\"\"! Function that return the solution of the Quadratic Problem\u001b[39;00m\n\u001b[0;32m    297\u001b[0m \n\u001b[0;32m    298\u001b[0m \u001b[38;5;124;03m@return The result of the problem [ cx + 0.5x.THx + 0.5y.TMy ] with the current solution that satisfy the constrains [Ax + My = b ] and [x >= 0]\u001b[39;00m\n\u001b[0;32m    299\u001b[0m \u001b[38;5;124;03m\"\"\"\u001b[39;00m\n\u001b[0;32m    300\u001b[0m constraint_AMb \u001b[38;5;241m=\u001b[39m \u001b[38;5;28mself\u001b[39m\u001b[38;5;241m.\u001b[39mA \u001b[38;5;241m@\u001b[39m \u001b[38;5;28mself\u001b[39m\u001b[38;5;241m.\u001b[39mx \u001b[38;5;241m+\u001b[39m \u001b[38;5;28mself\u001b[39m\u001b[38;5;241m.\u001b[39mM \u001b[38;5;241m@\u001b[39m \u001b[38;5;28mself\u001b[39m\u001b[38;5;241m.\u001b[39my \u001b[38;5;241m-\u001b[39m \u001b[38;5;28mself\u001b[39m\u001b[38;5;241m.\u001b[39mb\n\u001b[1;32m--> 301\u001b[0m \u001b[38;5;28;01massert\u001b[39;00m np\u001b[38;5;241m.\u001b[39mallclose(norm_2(constraint_AMb), \u001b[38;5;241m0\u001b[39m, atol\u001b[38;5;241m=\u001b[39m\u001b[38;5;28mself\u001b[39m\u001b[38;5;241m.\u001b[39mtol), constraint_AMb\n\u001b[0;32m    302\u001b[0m constraint_x \u001b[38;5;241m=\u001b[39m (\u001b[38;5;28mself\u001b[39m\u001b[38;5;241m.\u001b[39mx \u001b[38;5;241m>\u001b[39m\u001b[38;5;241m=\u001b[39m \u001b[38;5;28mself\u001b[39m\u001b[38;5;241m.\u001b[39ml\u001b[38;5;241m-\u001b[39m\u001b[38;5;28mself\u001b[39m\u001b[38;5;241m.\u001b[39mtol) \u001b[38;5;241m&\u001b[39m (\u001b[38;5;28mself\u001b[39m\u001b[38;5;241m.\u001b[39mx \u001b[38;5;241m<\u001b[39m\u001b[38;5;241m=\u001b[39m \u001b[38;5;28mself\u001b[39m\u001b[38;5;241m.\u001b[39mu\u001b[38;5;241m+\u001b[39m\u001b[38;5;28mself\u001b[39m\u001b[38;5;241m.\u001b[39mtol)\n\u001b[0;32m    303\u001b[0m \u001b[38;5;28;01massert\u001b[39;00m np\u001b[38;5;241m.\u001b[39mallclose(constraint_x, \u001b[38;5;28;01mTrue\u001b[39;00m, atol\u001b[38;5;241m=\u001b[39m\u001b[38;5;28mself\u001b[39m\u001b[38;5;241m.\u001b[39mtol), constraint_x\n",
      "\u001b[1;31mAssertionError\u001b[0m: [nan nan nan nan nan nan nan nan nan nan nan nan nan nan nan nan nan nan\n nan]"
     ]
    }
   ],
   "source": [
    "qp.get_solution()"
   ]
  },
  {
   "cell_type": "code",
   "execution_count": null,
   "id": "8a65ab51-1592-4f31-9c9e-094a2a7c16ec",
   "metadata": {},
   "outputs": [],
   "source": []
  }
 ],
 "metadata": {
  "kernelspec": {
   "display_name": "Python 3 (ipykernel)",
   "language": "python",
   "name": "python3"
  },
  "language_info": {
   "codemirror_mode": {
    "name": "ipython",
    "version": 3
   },
   "file_extension": ".py",
   "mimetype": "text/x-python",
   "name": "python",
   "nbconvert_exporter": "python",
   "pygments_lexer": "ipython3",
   "version": "3.9.6"
  }
 },
 "nbformat": 4,
 "nbformat_minor": 5
}
